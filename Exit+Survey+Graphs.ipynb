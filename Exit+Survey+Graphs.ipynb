{
 "cells": [
  {
   "cell_type": "code",
   "execution_count": 1,
   "metadata": {
    "collapsed": true
   },
   "outputs": [],
   "source": [
    "import pandas as pd\n",
    "import numpy as np\n",
    "import matplotlib.pyplot as plt\n",
    "%matplotlib inline"
   ]
  },
  {
   "cell_type": "code",
   "execution_count": 2,
   "metadata": {
    "collapsed": false
   },
   "outputs": [],
   "source": [
    "combined = pd.read_csv('combined_data.csv')"
   ]
  },
  {
   "cell_type": "code",
   "execution_count": 3,
   "metadata": {
    "collapsed": false
   },
   "outputs": [
    {
     "name": "stdout",
     "output_type": "stream",
     "text": [
      "<class 'pandas.core.frame.DataFrame'>\n",
      "RangeIndex: 1133 entries, 0 to 1132\n",
      "Data columns (total 16 columns):\n",
      "age                              1133 non-null object\n",
      "career_move_to_private_sector    1133 non-null bool\n",
      "career_move_to_public_sector     1133 non-null bool\n",
      "cease_date                       1133 non-null int64\n",
      "dissatisfaction                  1133 non-null bool\n",
      "employment_status                1133 non-null object\n",
      "gender                           1133 non-null object\n",
      "id                               1133 non-null float64\n",
      "ill_health                       1133 non-null bool\n",
      "institute                        1133 non-null object\n",
      "institute_service                1133 non-null object\n",
      "maternity/family                 1133 non-null bool\n",
      "none_of_the_above                1133 non-null bool\n",
      "position                         1133 non-null object\n",
      "separation_type                  1133 non-null object\n",
      "study/travel                     1133 non-null bool\n",
      "dtypes: bool(7), float64(1), int64(1), object(7)\n",
      "memory usage: 87.5+ KB\n"
     ]
    }
   ],
   "source": [
    "combined.info()"
   ]
  },
  {
   "cell_type": "markdown",
   "metadata": {},
   "source": [
    "The data above is the combined relevant data from the TAFE and DETE exit surveys  \n",
    "  \n",
    "    "
   ]
  },
  {
   "cell_type": "markdown",
   "metadata": {},
   "source": [
    "  "
   ]
  },
  {
   "cell_type": "markdown",
   "metadata": {},
   "source": [
    "## Institute Service"
   ]
  },
  {
   "cell_type": "code",
   "execution_count": 4,
   "metadata": {
    "collapsed": false
   },
   "outputs": [
    {
     "data": {
      "text/html": [
       "<div>\n",
       "<style scoped>\n",
       "    .dataframe tbody tr th:only-of-type {\n",
       "        vertical-align: middle;\n",
       "    }\n",
       "\n",
       "    .dataframe tbody tr th {\n",
       "        vertical-align: top;\n",
       "    }\n",
       "\n",
       "    .dataframe thead th {\n",
       "        text-align: right;\n",
       "    }\n",
       "</style>\n",
       "<table border=\"1\" class=\"dataframe\">\n",
       "  <thead>\n",
       "    <tr style=\"text-align: right;\">\n",
       "      <th></th>\n",
       "      <th>dissatisfaction</th>\n",
       "    </tr>\n",
       "    <tr>\n",
       "      <th>institute_service</th>\n",
       "      <th></th>\n",
       "    </tr>\n",
       "  </thead>\n",
       "  <tbody>\n",
       "    <tr>\n",
       "      <th>Established</th>\n",
       "      <td>0.458333</td>\n",
       "    </tr>\n",
       "    <tr>\n",
       "      <th>Experienced</th>\n",
       "      <td>0.349138</td>\n",
       "    </tr>\n",
       "    <tr>\n",
       "      <th>New</th>\n",
       "      <td>0.292181</td>\n",
       "    </tr>\n",
       "    <tr>\n",
       "      <th>Veteran</th>\n",
       "      <td>0.475089</td>\n",
       "    </tr>\n",
       "  </tbody>\n",
       "</table>\n",
       "</div>"
      ],
      "text/plain": [
       "                   dissatisfaction\n",
       "institute_service                 \n",
       "Established               0.458333\n",
       "Experienced               0.349138\n",
       "New                       0.292181\n",
       "Veteran                   0.475089"
      ]
     },
     "execution_count": 4,
     "metadata": {},
     "output_type": "execute_result"
    }
   ],
   "source": [
    "combined_pv = (combined.pivot_table(values = 'dissatisfaction', \n",
    "                                    index='institute_service'))\n",
    "combined_pv"
   ]
  },
  {
   "cell_type": "code",
   "execution_count": 5,
   "metadata": {
    "collapsed": false
   },
   "outputs": [
    {
     "data": {
      "image/png": "[encoded data removed]",
      "text/plain": [
       "<matplotlib.figure.Figure at 0x7fd1a1315f98>"
      ]
     },
     "metadata": {},
     "output_type": "display_data"
    }
   ],
   "source": [
    "ax = combined_pv.plot(kind='bar', rot = 360, legend=False, color=(0, 107/255, 164/255))\n",
    "ax.tick_params(bottom=\"off\", left=\"off\", top=\"off\", right=\"off\")\n",
    "for key, spine in ax.spines.items():\n",
    "    spine.set_visible(False)\n",
    "ax.text(-0.3,0.47, '45.8333%')\n",
    "ax.text(0.72,0.36, '34.9138%')\n",
    "ax.text(1.73, 0.31, '29.2181%')\n",
    "ax.text(2.7,0.48, '47.5089%')\n",
    "ax.yaxis.set_ticklabels([])\n",
    "ax.title.set_text('Percentage Dissatisfied vs Institute Service')\n"
   ]
  },
  {
   "cell_type": "markdown",
   "metadata": {},
   "source": [
    "The percentage of dissatisfied employees increases the longer that they work for either TAFE or DETE"
   ]
  },
  {
   "cell_type": "markdown",
   "metadata": {},
   "source": [
    "## Age"
   ]
  },
  {
   "cell_type": "code",
   "execution_count": 6,
   "metadata": {
    "collapsed": false
   },
   "outputs": [
    {
     "data": {
      "text/html": [
       "<div>\n",
       "<style scoped>\n",
       "    .dataframe tbody tr th:only-of-type {\n",
       "        vertical-align: middle;\n",
       "    }\n",
       "\n",
       "    .dataframe tbody tr th {\n",
       "        vertical-align: top;\n",
       "    }\n",
       "\n",
       "    .dataframe thead th {\n",
       "        text-align: right;\n",
       "    }\n",
       "</style>\n",
       "<table border=\"1\" class=\"dataframe\">\n",
       "  <thead>\n",
       "    <tr style=\"text-align: right;\">\n",
       "      <th></th>\n",
       "      <th>dissatisfaction</th>\n",
       "    </tr>\n",
       "    <tr>\n",
       "      <th>age</th>\n",
       "      <th></th>\n",
       "    </tr>\n",
       "  </thead>\n",
       "  <tbody>\n",
       "    <tr>\n",
       "      <th>20 or younger</th>\n",
       "      <td>0.300000</td>\n",
       "    </tr>\n",
       "    <tr>\n",
       "      <th>21-25</th>\n",
       "      <td>0.319444</td>\n",
       "    </tr>\n",
       "    <tr>\n",
       "      <th>26-30</th>\n",
       "      <td>0.425287</td>\n",
       "    </tr>\n",
       "    <tr>\n",
       "      <th>31-35</th>\n",
       "      <td>0.369863</td>\n",
       "    </tr>\n",
       "    <tr>\n",
       "      <th>36-40</th>\n",
       "      <td>0.337349</td>\n",
       "    </tr>\n",
       "    <tr>\n",
       "      <th>41-45</th>\n",
       "      <td>0.386792</td>\n",
       "    </tr>\n",
       "    <tr>\n",
       "      <th>46-50</th>\n",
       "      <td>0.424242</td>\n",
       "    </tr>\n",
       "    <tr>\n",
       "      <th>51-55</th>\n",
       "      <td>0.489796</td>\n",
       "    </tr>\n",
       "    <tr>\n",
       "      <th>56-60</th>\n",
       "      <td>0.449393</td>\n",
       "    </tr>\n",
       "    <tr>\n",
       "      <th>61 or older</th>\n",
       "      <td>0.377990</td>\n",
       "    </tr>\n",
       "  </tbody>\n",
       "</table>\n",
       "</div>"
      ],
      "text/plain": [
       "               dissatisfaction\n",
       "age                           \n",
       "20 or younger         0.300000\n",
       "21-25                 0.319444\n",
       "26-30                 0.425287\n",
       "31-35                 0.369863\n",
       "36-40                 0.337349\n",
       "41-45                 0.386792\n",
       "46-50                 0.424242\n",
       "51-55                 0.489796\n",
       "56-60                 0.449393\n",
       "61 or older           0.377990"
      ]
     },
     "execution_count": 6,
     "metadata": {},
     "output_type": "execute_result"
    }
   ],
   "source": [
    "combined_pv = (combined.pivot_table(values = 'dissatisfaction', \n",
    "                                    index='age'))\n",
    "combined_pv"
   ]
  },
  {
   "cell_type": "code",
   "execution_count": 7,
   "metadata": {
    "collapsed": false,
    "scrolled": false
   },
   "outputs": [
    {
     "data": {
      "image/png": "[encoded data removed]",
      "text/plain": [
       "<matplotlib.figure.Figure at 0x7fd1a13394a8>"
      ]
     },
     "metadata": {},
     "output_type": "display_data"
    }
   ],
   "source": [
    "ax = combined_pv.plot(kind='bar', rot = 360, legend=False, color=(0, 107/255, 164/255), figsize=(9,5))\n",
    "ax.tick_params(bottom=\"off\", left=\"off\", top=\"off\", right=\"off\")\n",
    "for key, spine in ax.spines.items():\n",
    "    spine.set_visible(False)\n",
    "ax.text(-0.25,0.31, '30%')\n",
    "ax.text(0.65,0.33, '31.94%')\n",
    "ax.text(1.65, 0.44, '42.53%')\n",
    "ax.text(2.65,0.38, '36.99%')\n",
    "ax.text(3.65,0.35, '33.73%')\n",
    "ax.text(4.65,0.4, '38.70%')\n",
    "ax.text(5.65,0.44, '42.42%')\n",
    "ax.text(6.65,0.5, '48.47%')\n",
    "ax.text(7.65,0.46, '44.94%')\n",
    "ax.text(8.65,0.39, '37.8%')\n",
    "ax.yaxis.set_ticklabels([])\n",
    "ax.title.set_text('Percentage Dissatisfied vs Age')"
   ]
  },
  {
   "cell_type": "markdown",
   "metadata": {},
   "source": [
    "Dissatisfaction peaks in the age bracket of 26-30 and 51-55, with 51-55 slightly higher.  \n",
    "36-40 has a local dip "
   ]
  },
  {
   "cell_type": "markdown",
   "metadata": {},
   "source": [
    "## TAFE Only"
   ]
  },
  {
   "cell_type": "code",
   "execution_count": 8,
   "metadata": {
    "collapsed": false,
    "scrolled": true
   },
   "outputs": [
    {
     "data": {
      "text/html": [
       "<div>\n",
       "<style scoped>\n",
       "    .dataframe tbody tr th:only-of-type {\n",
       "        vertical-align: middle;\n",
       "    }\n",
       "\n",
       "    .dataframe tbody tr th {\n",
       "        vertical-align: top;\n",
       "    }\n",
       "\n",
       "    .dataframe thead th {\n",
       "        text-align: right;\n",
       "    }\n",
       "</style>\n",
       "<table border=\"1\" class=\"dataframe\">\n",
       "  <thead>\n",
       "    <tr style=\"text-align: right;\">\n",
       "      <th></th>\n",
       "      <th>dissatisfaction</th>\n",
       "    </tr>\n",
       "    <tr>\n",
       "      <th>institute_service</th>\n",
       "      <th></th>\n",
       "    </tr>\n",
       "  </thead>\n",
       "  <tbody>\n",
       "    <tr>\n",
       "      <th>Established</th>\n",
       "      <td>0.333333</td>\n",
       "    </tr>\n",
       "    <tr>\n",
       "      <th>Experienced</th>\n",
       "      <td>0.268519</td>\n",
       "    </tr>\n",
       "    <tr>\n",
       "      <th>New</th>\n",
       "      <td>0.289655</td>\n",
       "    </tr>\n",
       "    <tr>\n",
       "      <th>Veteran</th>\n",
       "      <td>0.257732</td>\n",
       "    </tr>\n",
       "  </tbody>\n",
       "</table>\n",
       "</div>"
      ],
      "text/plain": [
       "                   dissatisfaction\n",
       "institute_service                 \n",
       "Established               0.333333\n",
       "Experienced               0.268519\n",
       "New                       0.289655\n",
       "Veteran                   0.257732"
      ]
     },
     "execution_count": 8,
     "metadata": {},
     "output_type": "execute_result"
    }
   ],
   "source": [
    "tafe_pv = (combined[combined['institute'] =='TAFE'].pivot_table(values = 'dissatisfaction', \n",
    "                                                     index = 'institute_service'));\n",
    "tafe_pv\n"
   ]
  },
  {
   "cell_type": "code",
   "execution_count": 9,
   "metadata": {
    "collapsed": false,
    "scrolled": true
   },
   "outputs": [
    {
     "data": {
      "text/html": [
       "<div>\n",
       "<style scoped>\n",
       "    .dataframe tbody tr th:only-of-type {\n",
       "        vertical-align: middle;\n",
       "    }\n",
       "\n",
       "    .dataframe tbody tr th {\n",
       "        vertical-align: top;\n",
       "    }\n",
       "\n",
       "    .dataframe thead th {\n",
       "        text-align: right;\n",
       "    }\n",
       "</style>\n",
       "<table border=\"1\" class=\"dataframe\">\n",
       "  <thead>\n",
       "    <tr style=\"text-align: right;\">\n",
       "      <th></th>\n",
       "      <th>dissatisfaction</th>\n",
       "    </tr>\n",
       "    <tr>\n",
       "      <th>institute_service</th>\n",
       "      <th></th>\n",
       "    </tr>\n",
       "  </thead>\n",
       "  <tbody>\n",
       "    <tr>\n",
       "      <th>Established</th>\n",
       "      <td>0.515152</td>\n",
       "    </tr>\n",
       "    <tr>\n",
       "      <th>Experienced</th>\n",
       "      <td>0.419355</td>\n",
       "    </tr>\n",
       "    <tr>\n",
       "      <th>New</th>\n",
       "      <td>0.295918</td>\n",
       "    </tr>\n",
       "    <tr>\n",
       "      <th>Veteran</th>\n",
       "      <td>0.520430</td>\n",
       "    </tr>\n",
       "  </tbody>\n",
       "</table>\n",
       "</div>"
      ],
      "text/plain": [
       "                   dissatisfaction\n",
       "institute_service                 \n",
       "Established               0.515152\n",
       "Experienced               0.419355\n",
       "New                       0.295918\n",
       "Veteran                   0.520430"
      ]
     },
     "execution_count": 9,
     "metadata": {},
     "output_type": "execute_result"
    }
   ],
   "source": [
    "dete_pv = (combined[combined['institute'] =='DETE'].pivot_table(values = 'dissatisfaction', \n",
    "                                                     index = 'institute_service'));\n",
    "dete_pv"
   ]
  },
  {
   "cell_type": "code",
   "execution_count": 21,
   "metadata": {
    "collapsed": false
   },
   "outputs": [
    {
     "data": {
      "image/png": "[encoded data removed]",
      "text/plain": [
       "<matplotlib.figure.Figure at 0x7fd19f03d208>"
      ]
     },
     "metadata": {},
     "output_type": "display_data"
    }
   ],
   "source": [
    "fig, axes = plt.subplots(nrows=1, ncols=2, figsize=(7,7))\n",
    "\n",
    "ax1 = tafe_pv.plot(ax = axes[0],kind='bar', rot = 360, legend=False, color=(0, 107/255, 164/255), figsize=(15,6))\n",
    "ax1.tick_params(bottom=\"off\", left=\"off\", top=\"off\", right=\"off\")\n",
    "for key, spine in ax1.spines.items():\n",
    "    spine.set_visible(False)\n",
    "ax1.text(-0.15,0.34, '33.3%')\n",
    "ax1.text(0.85,0.28, '26.85%')\n",
    "ax1.text(1.85,0.3, '28.97%')\n",
    "ax1.text(2.85,0.27, '25.77%')\n",
    "ax1.set_ylim([0,0.6])\n",
    "\n",
    "ax1.yaxis.set_ticklabels([])\n",
    "ax1.title.set_text('Percentage Dissatisfied vs Institute Service (TAFE)')\n",
    "\n",
    "ax2 = dete_pv.plot(ax = axes[1], kind='bar', rot = 360, legend=False, color=(0, 107/255, 164/255), figsize=(15,6))\n",
    "ax2.tick_params(bottom=\"off\", left=\"off\", top=\"off\", right=\"off\")\n",
    "for key, spine in ax2.spines.items():\n",
    "    spine.set_visible(False)\n",
    "ax2.text(-0.15,0.53, '51.52%')\n",
    "ax2.text(0.85,0.43, '41.94%')\n",
    "ax2.text(1.85,0.31, '29.59%')\n",
    "ax2.text(2.85,0.54, '52.04%')\n",
    "ax2.set_ylim([0,0.6])\n",
    "ax2.yaxis.set_ticklabels([])\n",
    "\n",
    "ax2.title.set_text('Percentage Dissatisfied vs Institute Service (DETE)')"
   ]
  },
  {
   "cell_type": "markdown",
   "metadata": {
    "collapsed": true
   },
   "source": [
    "Employees of DETE have higher rates of dissatisfaction"
   ]
  },
  {
   "cell_type": "code",
   "execution_count": null,
   "metadata": {
    "collapsed": true
   },
   "outputs": [],
   "source": []
  }
 ],
 "metadata": {
  "kernelspec": {
   "display_name": "Python 3",
   "language": "python",
   "name": "python3"
  },
  "language_info": {
   "codemirror_mode": {
    "name": "ipython",
    "version": 3
   },
   "file_extension": ".py",
   "mimetype": "text/x-python",
   "name": "python",
   "nbconvert_exporter": "python",
   "pygments_lexer": "ipython3",
   "version": "3.4.3"
  }
 },
 "nbformat": 4,
 "nbformat_minor": 4
}
