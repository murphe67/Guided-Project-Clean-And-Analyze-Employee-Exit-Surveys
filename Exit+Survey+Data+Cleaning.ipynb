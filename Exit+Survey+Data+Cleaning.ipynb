{
 "cells": [
  {
   "cell_type": "code",
   "execution_count": 97,
   "metadata": {
    "collapsed": true
   },
   "outputs": [],
   "source": [
    "import pandas as pd\n",
    "import numpy as np\n",
    "import matplotlib.pyplot as plt\n",
    "%matplotlib inline"
   ]
  },
  {
   "cell_type": "markdown",
   "metadata": {},
   "source": [
    "# Dete"
   ]
  },
  {
   "cell_type": "code",
   "execution_count": 98,
   "metadata": {
    "collapsed": true
   },
   "outputs": [],
   "source": [
    "dete_survey = pd.read_csv('dete_survey.csv')"
   ]
  },
  {
   "cell_type": "code",
   "execution_count": 99,
   "metadata": {
    "collapsed": false
   },
   "outputs": [],
   "source": [
    "dete_survey = dete_survey.drop(dete_survey.columns[28:49], axis=1)"
   ]
  },
  {
   "cell_type": "code",
   "execution_count": 100,
   "metadata": {
    "collapsed": false,
    "scrolled": false
   },
   "outputs": [
    {
     "name": "stdout",
     "output_type": "stream",
     "text": [
      "<class 'pandas.core.frame.DataFrame'>\n",
      "RangeIndex: 822 entries, 0 to 821\n",
      "Data columns (total 35 columns):\n",
      "ID                                     822 non-null int64\n",
      "SeparationType                         822 non-null object\n",
      "Cease Date                             822 non-null object\n",
      "DETE Start Date                        822 non-null object\n",
      "Role Start Date                        822 non-null object\n",
      "Position                               817 non-null object\n",
      "Classification                         455 non-null object\n",
      "Region                                 822 non-null object\n",
      "Business Unit                          126 non-null object\n",
      "Employment Status                      817 non-null object\n",
      "Career move to public sector           822 non-null bool\n",
      "Career move to private sector          822 non-null bool\n",
      "Interpersonal conflicts                822 non-null bool\n",
      "Job dissatisfaction                    822 non-null bool\n",
      "Dissatisfaction with the department    822 non-null bool\n",
      "Physical work environment              822 non-null bool\n",
      "Lack of recognition                    822 non-null bool\n",
      "Lack of job security                   822 non-null bool\n",
      "Work location                          822 non-null bool\n",
      "Employment conditions                  822 non-null bool\n",
      "Maternity/family                       822 non-null bool\n",
      "Relocation                             822 non-null bool\n",
      "Study/Travel                           822 non-null bool\n",
      "Ill Health                             822 non-null bool\n",
      "Traumatic incident                     822 non-null bool\n",
      "Work life balance                      822 non-null bool\n",
      "Workload                               822 non-null bool\n",
      "None of the above                      822 non-null bool\n",
      "Gender                                 798 non-null object\n",
      "Age                                    811 non-null object\n",
      "Aboriginal                             16 non-null object\n",
      "Torres Strait                          3 non-null object\n",
      "South Sea                              7 non-null object\n",
      "Disability                             23 non-null object\n",
      "NESB                                   32 non-null object\n",
      "dtypes: bool(18), int64(1), object(16)\n",
      "memory usage: 123.7+ KB\n"
     ]
    }
   ],
   "source": [
    "dete_survey.info()"
   ]
  },
  {
   "cell_type": "code",
   "execution_count": 101,
   "metadata": {
    "collapsed": false
   },
   "outputs": [
    {
     "data": {
      "text/html": [
       "<div>\n",
       "<style scoped>\n",
       "    .dataframe tbody tr th:only-of-type {\n",
       "        vertical-align: middle;\n",
       "    }\n",
       "\n",
       "    .dataframe tbody tr th {\n",
       "        vertical-align: top;\n",
       "    }\n",
       "\n",
       "    .dataframe thead th {\n",
       "        text-align: right;\n",
       "    }\n",
       "</style>\n",
       "<table border=\"1\" class=\"dataframe\">\n",
       "  <thead>\n",
       "    <tr style=\"text-align: right;\">\n",
       "      <th></th>\n",
       "      <th>ID</th>\n",
       "      <th>SeparationType</th>\n",
       "      <th>Cease Date</th>\n",
       "      <th>DETE Start Date</th>\n",
       "      <th>Role Start Date</th>\n",
       "      <th>Position</th>\n",
       "      <th>Classification</th>\n",
       "      <th>Region</th>\n",
       "      <th>Business Unit</th>\n",
       "      <th>Employment Status</th>\n",
       "      <th>...</th>\n",
       "      <th>Work life balance</th>\n",
       "      <th>Workload</th>\n",
       "      <th>None of the above</th>\n",
       "      <th>Gender</th>\n",
       "      <th>Age</th>\n",
       "      <th>Aboriginal</th>\n",
       "      <th>Torres Strait</th>\n",
       "      <th>South Sea</th>\n",
       "      <th>Disability</th>\n",
       "      <th>NESB</th>\n",
       "    </tr>\n",
       "  </thead>\n",
       "  <tbody>\n",
       "    <tr>\n",
       "      <th>0</th>\n",
       "      <td>1</td>\n",
       "      <td>Ill Health Retirement</td>\n",
       "      <td>08/2012</td>\n",
       "      <td>1984</td>\n",
       "      <td>2004</td>\n",
       "      <td>Public Servant</td>\n",
       "      <td>A01-A04</td>\n",
       "      <td>Central Office</td>\n",
       "      <td>Corporate Strategy and Peformance</td>\n",
       "      <td>Permanent Full-time</td>\n",
       "      <td>...</td>\n",
       "      <td>False</td>\n",
       "      <td>False</td>\n",
       "      <td>True</td>\n",
       "      <td>Male</td>\n",
       "      <td>56-60</td>\n",
       "      <td>NaN</td>\n",
       "      <td>NaN</td>\n",
       "      <td>NaN</td>\n",
       "      <td>NaN</td>\n",
       "      <td>Yes</td>\n",
       "    </tr>\n",
       "    <tr>\n",
       "      <th>1</th>\n",
       "      <td>2</td>\n",
       "      <td>Voluntary Early Retirement (VER)</td>\n",
       "      <td>08/2012</td>\n",
       "      <td>Not Stated</td>\n",
       "      <td>Not Stated</td>\n",
       "      <td>Public Servant</td>\n",
       "      <td>AO5-AO7</td>\n",
       "      <td>Central Office</td>\n",
       "      <td>Corporate Strategy and Peformance</td>\n",
       "      <td>Permanent Full-time</td>\n",
       "      <td>...</td>\n",
       "      <td>False</td>\n",
       "      <td>False</td>\n",
       "      <td>False</td>\n",
       "      <td>Male</td>\n",
       "      <td>56-60</td>\n",
       "      <td>NaN</td>\n",
       "      <td>NaN</td>\n",
       "      <td>NaN</td>\n",
       "      <td>NaN</td>\n",
       "      <td>NaN</td>\n",
       "    </tr>\n",
       "    <tr>\n",
       "      <th>2</th>\n",
       "      <td>3</td>\n",
       "      <td>Voluntary Early Retirement (VER)</td>\n",
       "      <td>05/2012</td>\n",
       "      <td>2011</td>\n",
       "      <td>2011</td>\n",
       "      <td>Schools Officer</td>\n",
       "      <td>NaN</td>\n",
       "      <td>Central Office</td>\n",
       "      <td>Education Queensland</td>\n",
       "      <td>Permanent Full-time</td>\n",
       "      <td>...</td>\n",
       "      <td>False</td>\n",
       "      <td>False</td>\n",
       "      <td>True</td>\n",
       "      <td>Male</td>\n",
       "      <td>61 or older</td>\n",
       "      <td>NaN</td>\n",
       "      <td>NaN</td>\n",
       "      <td>NaN</td>\n",
       "      <td>NaN</td>\n",
       "      <td>NaN</td>\n",
       "    </tr>\n",
       "    <tr>\n",
       "      <th>3</th>\n",
       "      <td>4</td>\n",
       "      <td>Resignation-Other reasons</td>\n",
       "      <td>05/2012</td>\n",
       "      <td>2005</td>\n",
       "      <td>2006</td>\n",
       "      <td>Teacher</td>\n",
       "      <td>Primary</td>\n",
       "      <td>Central Queensland</td>\n",
       "      <td>NaN</td>\n",
       "      <td>Permanent Full-time</td>\n",
       "      <td>...</td>\n",
       "      <td>False</td>\n",
       "      <td>False</td>\n",
       "      <td>False</td>\n",
       "      <td>Female</td>\n",
       "      <td>36-40</td>\n",
       "      <td>NaN</td>\n",
       "      <td>NaN</td>\n",
       "      <td>NaN</td>\n",
       "      <td>NaN</td>\n",
       "      <td>NaN</td>\n",
       "    </tr>\n",
       "    <tr>\n",
       "      <th>4</th>\n",
       "      <td>5</td>\n",
       "      <td>Age Retirement</td>\n",
       "      <td>05/2012</td>\n",
       "      <td>1970</td>\n",
       "      <td>1989</td>\n",
       "      <td>Head of Curriculum/Head of Special Education</td>\n",
       "      <td>NaN</td>\n",
       "      <td>South East</td>\n",
       "      <td>NaN</td>\n",
       "      <td>Permanent Full-time</td>\n",
       "      <td>...</td>\n",
       "      <td>True</td>\n",
       "      <td>False</td>\n",
       "      <td>False</td>\n",
       "      <td>Female</td>\n",
       "      <td>61 or older</td>\n",
       "      <td>NaN</td>\n",
       "      <td>NaN</td>\n",
       "      <td>NaN</td>\n",
       "      <td>NaN</td>\n",
       "      <td>NaN</td>\n",
       "    </tr>\n",
       "  </tbody>\n",
       "</table>\n",
       "<p>5 rows × 35 columns</p>\n",
       "</div>"
      ],
      "text/plain": [
       "   ID                    SeparationType Cease Date DETE Start Date  \\\n",
       "0   1             Ill Health Retirement    08/2012            1984   \n",
       "1   2  Voluntary Early Retirement (VER)    08/2012      Not Stated   \n",
       "2   3  Voluntary Early Retirement (VER)    05/2012            2011   \n",
       "3   4         Resignation-Other reasons    05/2012            2005   \n",
       "4   5                    Age Retirement    05/2012            1970   \n",
       "\n",
       "  Role Start Date                                      Position  \\\n",
       "0            2004                                Public Servant   \n",
       "1      Not Stated                                Public Servant   \n",
       "2            2011                               Schools Officer   \n",
       "3            2006                                       Teacher   \n",
       "4            1989  Head of Curriculum/Head of Special Education   \n",
       "\n",
       "  Classification              Region                      Business Unit  \\\n",
       "0        A01-A04      Central Office  Corporate Strategy and Peformance   \n",
       "1        AO5-AO7      Central Office  Corporate Strategy and Peformance   \n",
       "2            NaN      Central Office               Education Queensland   \n",
       "3        Primary  Central Queensland                                NaN   \n",
       "4            NaN          South East                                NaN   \n",
       "\n",
       "     Employment Status  ...   Work life balance  Workload  None of the above  \\\n",
       "0  Permanent Full-time  ...               False     False               True   \n",
       "1  Permanent Full-time  ...               False     False              False   \n",
       "2  Permanent Full-time  ...               False     False               True   \n",
       "3  Permanent Full-time  ...               False     False              False   \n",
       "4  Permanent Full-time  ...                True     False              False   \n",
       "\n",
       "   Gender          Age  Aboriginal  Torres Strait  South Sea  Disability  NESB  \n",
       "0    Male        56-60         NaN            NaN        NaN         NaN   Yes  \n",
       "1    Male        56-60         NaN            NaN        NaN         NaN   NaN  \n",
       "2    Male  61 or older         NaN            NaN        NaN         NaN   NaN  \n",
       "3  Female        36-40         NaN            NaN        NaN         NaN   NaN  \n",
       "4  Female  61 or older         NaN            NaN        NaN         NaN   NaN  \n",
       "\n",
       "[5 rows x 35 columns]"
      ]
     },
     "execution_count": 101,
     "metadata": {},
     "output_type": "execute_result"
    }
   ],
   "source": [
    "dete_survey.head()"
   ]
  },
  {
   "cell_type": "markdown",
   "metadata": {},
   "source": [
    "## First Clean"
   ]
  },
  {
   "cell_type": "markdown",
   "metadata": {},
   "source": [
    "#### Aboriginal Column"
   ]
  },
  {
   "cell_type": "code",
   "execution_count": 102,
   "metadata": {
    "collapsed": false
   },
   "outputs": [
    {
     "data": {
      "text/plain": [
       "NaN    806\n",
       "Yes     16\n",
       "Name: Aboriginal, dtype: int64"
      ]
     },
     "execution_count": 102,
     "metadata": {},
     "output_type": "execute_result"
    }
   ],
   "source": [
    "dete_survey['Aboriginal'].value_counts(dropna=False)"
   ]
  },
  {
   "cell_type": "code",
   "execution_count": 103,
   "metadata": {
    "collapsed": true
   },
   "outputs": [],
   "source": [
    "dete_survey['Aboriginal'] = dete_survey['Aboriginal'].fillna('False')"
   ]
  },
  {
   "cell_type": "code",
   "execution_count": 104,
   "metadata": {
    "collapsed": true
   },
   "outputs": [],
   "source": [
    "dete_survey['Aboriginal'] = dete_survey['Aboriginal'].replace('Yes', True)"
   ]
  },
  {
   "cell_type": "code",
   "execution_count": 105,
   "metadata": {
    "collapsed": false,
    "scrolled": true
   },
   "outputs": [
    {
     "data": {
      "text/plain": [
       "False    806\n",
       "True      16\n",
       "Name: Aboriginal, dtype: int64"
      ]
     },
     "execution_count": 105,
     "metadata": {},
     "output_type": "execute_result"
    }
   ],
   "source": [
    "dete_survey['Aboriginal'].value_counts(dropna=False)"
   ]
  },
  {
   "cell_type": "markdown",
   "metadata": {},
   "source": [
    "Aboriginal column has been changed for a combo of NaN and Yes to a boolean"
   ]
  },
  {
   "cell_type": "markdown",
   "metadata": {},
   "source": [
    "#### Classification Column"
   ]
  },
  {
   "cell_type": "code",
   "execution_count": 106,
   "metadata": {
    "collapsed": false
   },
   "outputs": [
    {
     "data": {
      "text/plain": [
       "NaN                  367\n",
       "Primary              161\n",
       "Secondary            124\n",
       "A01-A04               66\n",
       "AO5-AO7               46\n",
       "Special Education     33\n",
       "AO8 and Above         14\n",
       "PO1-PO4                8\n",
       "Middle                 3\n",
       "Name: Classification, dtype: int64"
      ]
     },
     "execution_count": 106,
     "metadata": {},
     "output_type": "execute_result"
    }
   ],
   "source": [
    "dete_survey['Classification'].value_counts(dropna=False)"
   ]
  },
  {
   "cell_type": "markdown",
   "metadata": {},
   "source": [
    "Referring back to my objective, classification is almost more empty than recorded, and it was not enquired about by the people looking for analysis.   \n",
    "Should be removed"
   ]
  },
  {
   "cell_type": "code",
   "execution_count": 107,
   "metadata": {
    "collapsed": false
   },
   "outputs": [],
   "source": [
    "dete_survey = dete_survey.drop('Classification', axis=1)"
   ]
  },
  {
   "cell_type": "markdown",
   "metadata": {},
   "source": [
    "#### Position Column"
   ]
  },
  {
   "cell_type": "code",
   "execution_count": 108,
   "metadata": {
    "collapsed": false
   },
   "outputs": [
    {
     "data": {
      "text/plain": [
       "Teacher                                                    324\n",
       "Teacher Aide                                               137\n",
       "Public Servant                                             126\n",
       "Cleaner                                                     97\n",
       "Head of Curriculum/Head of Special Education                38\n",
       "Schools Officer                                             24\n",
       "School Administrative Staff                                 16\n",
       "Guidance Officer                                            12\n",
       "Technical Officer                                           11\n",
       "Other                                                        7\n",
       "Professional Officer                                         7\n",
       "School Based Professional Staff (Therapist, nurse, etc)      5\n",
       "School Principal                                             5\n",
       "NaN                                                          5\n",
       "Business Service Manager                                     4\n",
       "Deputy Principal                                             4\n",
       "Name: Position, dtype: int64"
      ]
     },
     "execution_count": 108,
     "metadata": {},
     "output_type": "execute_result"
    }
   ],
   "source": [
    "dete_survey['Position'].value_counts(dropna=False)"
   ]
  },
  {
   "cell_type": "code",
   "execution_count": 109,
   "metadata": {
    "collapsed": false
   },
   "outputs": [],
   "source": [
    "dete_survey['Position'] = dete_survey['Position'].fillna('Teacher')"
   ]
  },
  {
   "cell_type": "code",
   "execution_count": 110,
   "metadata": {
    "collapsed": false
   },
   "outputs": [
    {
     "data": {
      "text/plain": [
       "Teacher                                                    329\n",
       "Teacher Aide                                               137\n",
       "Public Servant                                             126\n",
       "Cleaner                                                     97\n",
       "Head of Curriculum/Head of Special Education                38\n",
       "Schools Officer                                             24\n",
       "School Administrative Staff                                 16\n",
       "Guidance Officer                                            12\n",
       "Technical Officer                                           11\n",
       "Other                                                        7\n",
       "Professional Officer                                         7\n",
       "School Based Professional Staff (Therapist, nurse, etc)      5\n",
       "School Principal                                             5\n",
       "Business Service Manager                                     4\n",
       "Deputy Principal                                             4\n",
       "Name: Position, dtype: int64"
      ]
     },
     "execution_count": 110,
     "metadata": {},
     "output_type": "execute_result"
    }
   ],
   "source": [
    "dete_survey['Position'].value_counts(dropna=False)"
   ]
  },
  {
   "cell_type": "markdown",
   "metadata": {},
   "source": [
    "Removing NaN values allows graphs to work better, and the 5 NaN values were statistically very likely to be teachers, and the low number of values means that it will distort the graph very little, with no loss from other rows"
   ]
  },
  {
   "cell_type": "markdown",
   "metadata": {},
   "source": [
    "#### Employment Status"
   ]
  },
  {
   "cell_type": "code",
   "execution_count": 111,
   "metadata": {
    "collapsed": false
   },
   "outputs": [
    {
     "data": {
      "text/plain": [
       "Permanent Full-time    434\n",
       "Permanent Part-time    308\n",
       "Temporary Full-time     41\n",
       "Temporary Part-time     24\n",
       "Casual                  10\n",
       "NaN                      5\n",
       "Name: Employment Status, dtype: int64"
      ]
     },
     "execution_count": 111,
     "metadata": {},
     "output_type": "execute_result"
    }
   ],
   "source": [
    "dete_survey['Employment Status'].value_counts(dropna=False)"
   ]
  },
  {
   "cell_type": "code",
   "execution_count": 112,
   "metadata": {
    "collapsed": true
   },
   "outputs": [],
   "source": [
    "dete_survey['Employment Status'] = dete_survey['Employment Status'].fillna('Permanent Full-time')"
   ]
  },
  {
   "cell_type": "code",
   "execution_count": 113,
   "metadata": {
    "collapsed": false
   },
   "outputs": [
    {
     "data": {
      "text/plain": [
       "Permanent Full-time    439\n",
       "Permanent Part-time    308\n",
       "Temporary Full-time     41\n",
       "Temporary Part-time     24\n",
       "Casual                  10\n",
       "Name: Employment Status, dtype: int64"
      ]
     },
     "execution_count": 113,
     "metadata": {},
     "output_type": "execute_result"
    }
   ],
   "source": [
    "dete_survey['Employment Status'].value_counts(dropna=False)"
   ]
  },
  {
   "cell_type": "markdown",
   "metadata": {},
   "source": [
    "Set NaN data to the most common, permanent full-time"
   ]
  },
  {
   "cell_type": "markdown",
   "metadata": {},
   "source": [
    "#### Business Column"
   ]
  },
  {
   "cell_type": "code",
   "execution_count": 114,
   "metadata": {
    "collapsed": false
   },
   "outputs": [
    {
     "data": {
      "text/plain": [
       "NaN                                           696\n",
       "Education Queensland                           54\n",
       "Information and Technologies                   26\n",
       "Training and Tertiary Education Queensland     12\n",
       "Other                                          11\n",
       "Human Resources                                 6\n",
       "Corporate Strategy and Peformance               5\n",
       "Early Childhood Education and Care              3\n",
       "Policy, Research, Legislation                   2\n",
       "Infrastructure                                  2\n",
       "Finance                                         1\n",
       "Calliope State School                           1\n",
       "Indigenous Education and Training Futures       1\n",
       "Corporate Procurement                           1\n",
       "Pacific Pines SHS                               1\n",
       "Name: Business Unit, dtype: int64"
      ]
     },
     "execution_count": 114,
     "metadata": {},
     "output_type": "execute_result"
    }
   ],
   "source": [
    "dete_survey['Business Unit'].value_counts(dropna=False)"
   ]
  },
  {
   "cell_type": "code",
   "execution_count": 115,
   "metadata": {
    "collapsed": true
   },
   "outputs": [],
   "source": [
    "dete_survey = dete_survey.drop(columns='Business Unit')"
   ]
  },
  {
   "cell_type": "markdown",
   "metadata": {},
   "source": [
    "mostly empty and not relevant to the brief"
   ]
  },
  {
   "cell_type": "markdown",
   "metadata": {},
   "source": [
    "#### Gender"
   ]
  },
  {
   "cell_type": "code",
   "execution_count": 116,
   "metadata": {
    "collapsed": false
   },
   "outputs": [
    {
     "data": {
      "text/plain": [
       "Female    573\n",
       "Male      225\n",
       "NaN        24\n",
       "Name: Gender, dtype: int64"
      ]
     },
     "execution_count": 116,
     "metadata": {},
     "output_type": "execute_result"
    }
   ],
   "source": [
    "dete_survey['Gender'].value_counts(dropna=False)"
   ]
  },
  {
   "cell_type": "code",
   "execution_count": 117,
   "metadata": {
    "collapsed": false
   },
   "outputs": [],
   "source": [
    "dete_survey['Gender'] = dete_survey['Gender'].fillna('Female')"
   ]
  },
  {
   "cell_type": "code",
   "execution_count": 118,
   "metadata": {
    "collapsed": false
   },
   "outputs": [
    {
     "data": {
      "text/plain": [
       "Female    597\n",
       "Male      225\n",
       "Name: Gender, dtype: int64"
      ]
     },
     "execution_count": 118,
     "metadata": {},
     "output_type": "execute_result"
    }
   ],
   "source": [
    "dete_survey['Gender'].value_counts(dropna=False)"
   ]
  },
  {
   "cell_type": "markdown",
   "metadata": {},
   "source": [
    "#### Age"
   ]
  },
  {
   "cell_type": "code",
   "execution_count": 119,
   "metadata": {
    "collapsed": false
   },
   "outputs": [
    {
     "data": {
      "text/plain": [
       "61 or older      222\n",
       "56-60            174\n",
       "51-55            103\n",
       "46-50             63\n",
       "41-45             61\n",
       "26-30             57\n",
       "36-40             51\n",
       "21-25             40\n",
       "31-35             39\n",
       "NaN               11\n",
       "20 or younger      1\n",
       "Name: Age, dtype: int64"
      ]
     },
     "execution_count": 119,
     "metadata": {},
     "output_type": "execute_result"
    }
   ],
   "source": [
    "dete_survey['Age'].value_counts(dropna=False)"
   ]
  },
  {
   "cell_type": "code",
   "execution_count": 120,
   "metadata": {
    "collapsed": true
   },
   "outputs": [],
   "source": [
    "dete_survey['Age'] = dete_survey['Age'].fillna('61 or older')"
   ]
  },
  {
   "cell_type": "code",
   "execution_count": 121,
   "metadata": {
    "collapsed": false
   },
   "outputs": [
    {
     "data": {
      "text/plain": [
       "61 or older      233\n",
       "56-60            174\n",
       "51-55            103\n",
       "46-50             63\n",
       "41-45             61\n",
       "26-30             57\n",
       "36-40             51\n",
       "21-25             40\n",
       "31-35             39\n",
       "20 or younger      1\n",
       "Name: Age, dtype: int64"
      ]
     },
     "execution_count": 121,
     "metadata": {},
     "output_type": "execute_result"
    }
   ],
   "source": [
    "dete_survey['Age'].value_counts(dropna=False)"
   ]
  },
  {
   "cell_type": "code",
   "execution_count": 122,
   "metadata": {
    "collapsed": false
   },
   "outputs": [
    {
     "data": {
      "text/plain": [
       "<matplotlib.axes._subplots.AxesSubplot at 0x7f4f7e010438>"
      ]
     },
     "execution_count": 122,
     "metadata": {},
     "output_type": "execute_result"
    },
    {
     "data": {
      "image/png": "[encoded data removed]",
      "text/plain": [
       "<matplotlib.figure.Figure at 0x7f4f7e1c4c88>"
      ]
     },
     "metadata": {},
     "output_type": "display_data"
    }
   ],
   "source": [
    "dete_survey['Age'].value_counts(dropna=False).plot(kind='bar')"
   ]
  },
  {
   "cell_type": "markdown",
   "metadata": {},
   "source": [
    "### Torres Strait"
   ]
  },
  {
   "cell_type": "code",
   "execution_count": 123,
   "metadata": {
    "collapsed": false
   },
   "outputs": [
    {
     "data": {
      "text/plain": [
       "NaN    819\n",
       "Yes      3\n",
       "Name: Torres Strait, dtype: int64"
      ]
     },
     "execution_count": 123,
     "metadata": {},
     "output_type": "execute_result"
    }
   ],
   "source": [
    "dete_survey['Torres Strait'].value_counts(dropna=False)"
   ]
  },
  {
   "cell_type": "code",
   "execution_count": 124,
   "metadata": {
    "collapsed": true
   },
   "outputs": [],
   "source": [
    "dete_survey = dete_survey.drop(columns='Torres Strait')"
   ]
  },
  {
   "cell_type": "markdown",
   "metadata": {},
   "source": [
    "Three people is not enough to do a visual analysis on. If info is required, read the 3 files"
   ]
  },
  {
   "cell_type": "markdown",
   "metadata": {},
   "source": [
    "#### South Sea"
   ]
  },
  {
   "cell_type": "code",
   "execution_count": 125,
   "metadata": {
    "collapsed": false
   },
   "outputs": [
    {
     "data": {
      "text/plain": [
       "NaN    815\n",
       "Yes      7\n",
       "Name: South Sea, dtype: int64"
      ]
     },
     "execution_count": 125,
     "metadata": {},
     "output_type": "execute_result"
    }
   ],
   "source": [
    "dete_survey['South Sea'].value_counts(dropna=False)"
   ]
  },
  {
   "cell_type": "code",
   "execution_count": 126,
   "metadata": {
    "collapsed": true
   },
   "outputs": [],
   "source": [
    "dete_survey['South Sea'] = dete_survey['South Sea'].fillna(False)"
   ]
  },
  {
   "cell_type": "code",
   "execution_count": 127,
   "metadata": {
    "collapsed": false
   },
   "outputs": [],
   "source": [
    "dete_survey['South Sea'] = dete_survey['South Sea'].replace('Yes', True)"
   ]
  },
  {
   "cell_type": "code",
   "execution_count": 128,
   "metadata": {
    "collapsed": false
   },
   "outputs": [
    {
     "data": {
      "text/plain": [
       "False    815\n",
       "True       7\n",
       "Name: South Sea, dtype: int64"
      ]
     },
     "execution_count": 128,
     "metadata": {},
     "output_type": "execute_result"
    }
   ],
   "source": [
    "dete_survey['South Sea'].value_counts(dropna=False)"
   ]
  },
  {
   "cell_type": "markdown",
   "metadata": {},
   "source": [
    "#### Disability"
   ]
  },
  {
   "cell_type": "code",
   "execution_count": 129,
   "metadata": {
    "collapsed": false
   },
   "outputs": [
    {
     "data": {
      "text/plain": [
       "NaN    799\n",
       "Yes     23\n",
       "Name: Disability, dtype: int64"
      ]
     },
     "execution_count": 129,
     "metadata": {},
     "output_type": "execute_result"
    }
   ],
   "source": [
    "dete_survey['Disability'].value_counts(dropna=False)"
   ]
  },
  {
   "cell_type": "code",
   "execution_count": 130,
   "metadata": {
    "collapsed": true
   },
   "outputs": [],
   "source": [
    "dete_survey['Disability'] = dete_survey['Disability'].fillna(False)"
   ]
  },
  {
   "cell_type": "code",
   "execution_count": 131,
   "metadata": {
    "collapsed": true
   },
   "outputs": [],
   "source": [
    "dete_survey['Disability'] = dete_survey['Disability'].replace('Yes', True)"
   ]
  },
  {
   "cell_type": "code",
   "execution_count": 132,
   "metadata": {
    "collapsed": false
   },
   "outputs": [
    {
     "data": {
      "text/plain": [
       "False    799\n",
       "True      23\n",
       "Name: Disability, dtype: int64"
      ]
     },
     "execution_count": 132,
     "metadata": {},
     "output_type": "execute_result"
    }
   ],
   "source": [
    "dete_survey['Disability'].value_counts(dropna=False)"
   ]
  },
  {
   "cell_type": "markdown",
   "metadata": {},
   "source": [
    "#### NESB"
   ]
  },
  {
   "cell_type": "code",
   "execution_count": 133,
   "metadata": {
    "collapsed": false
   },
   "outputs": [
    {
     "data": {
      "text/plain": [
       "NaN    790\n",
       "Yes     32\n",
       "Name: NESB, dtype: int64"
      ]
     },
     "execution_count": 133,
     "metadata": {},
     "output_type": "execute_result"
    }
   ],
   "source": [
    "dete_survey['NESB'].value_counts(dropna=False)"
   ]
  },
  {
   "cell_type": "code",
   "execution_count": 134,
   "metadata": {
    "collapsed": true
   },
   "outputs": [],
   "source": [
    "dete_survey['NESB'] = dete_survey['NESB'].fillna(False)"
   ]
  },
  {
   "cell_type": "code",
   "execution_count": 135,
   "metadata": {
    "collapsed": true
   },
   "outputs": [],
   "source": [
    "dete_survey['NESB'] = dete_survey['NESB'].replace('Yes', True)"
   ]
  },
  {
   "cell_type": "code",
   "execution_count": 136,
   "metadata": {
    "collapsed": false
   },
   "outputs": [
    {
     "data": {
      "text/plain": [
       "False    790\n",
       "True      32\n",
       "Name: NESB, dtype: int64"
      ]
     },
     "execution_count": 136,
     "metadata": {},
     "output_type": "execute_result"
    }
   ],
   "source": [
    "dete_survey['NESB'].value_counts(dropna=False)"
   ]
  },
  {
   "cell_type": "markdown",
   "metadata": {},
   "source": [
    "#### ID"
   ]
  },
  {
   "cell_type": "code",
   "execution_count": 137,
   "metadata": {
    "collapsed": false,
    "scrolled": true
   },
   "outputs": [
    {
     "data": {
      "text/plain": [
       "<matplotlib.axes._subplots.AxesSubplot at 0x7f4f7dff0cc0>"
      ]
     },
     "execution_count": 137,
     "metadata": {},
     "output_type": "execute_result"
    },
    {
     "data": {
      "image/png": "[encoded data removed]",
      "text/plain": [
       "<matplotlib.figure.Figure at 0x7f4f7e009048>"
      ]
     },
     "metadata": {},
     "output_type": "display_data"
    }
   ],
   "source": [
    "dete_survey['ID'].hist()"
   ]
  },
  {
   "cell_type": "markdown",
   "metadata": {},
   "source": [
    "#### Seperation Type"
   ]
  },
  {
   "cell_type": "code",
   "execution_count": 138,
   "metadata": {
    "collapsed": false
   },
   "outputs": [
    {
     "data": {
      "text/plain": [
       "Age Retirement                          285\n",
       "Resignation-Other reasons               150\n",
       "Resignation-Other employer               91\n",
       "Resignation-Move overseas/interstate     70\n",
       "Voluntary Early Retirement (VER)         67\n",
       "Ill Health Retirement                    61\n",
       "Other                                    49\n",
       "Contract Expired                         34\n",
       "Termination                              15\n",
       "Name: SeparationType, dtype: int64"
      ]
     },
     "execution_count": 138,
     "metadata": {},
     "output_type": "execute_result"
    }
   ],
   "source": [
    "dete_survey['SeparationType'].value_counts()"
   ]
  },
  {
   "cell_type": "markdown",
   "metadata": {},
   "source": [
    "#### Cease Date"
   ]
  },
  {
   "cell_type": "code",
   "execution_count": 139,
   "metadata": {
    "collapsed": false
   },
   "outputs": [
    {
     "data": {
      "text/plain": [
       "2012          344\n",
       "2013          200\n",
       "01/2014        43\n",
       "12/2013        40\n",
       "Not Stated     34\n",
       "09/2013        34\n",
       "06/2013        27\n",
       "07/2013        22\n",
       "10/2013        20\n",
       "11/2013        16\n",
       "08/2013        12\n",
       "05/2013         7\n",
       "05/2012         6\n",
       "02/2014         2\n",
       "07/2014         2\n",
       "04/2013         2\n",
       "04/2014         2\n",
       "08/2012         2\n",
       "09/2014         1\n",
       "2010            1\n",
       "07/2006         1\n",
       "09/2010         1\n",
       "11/2012         1\n",
       "07/2012         1\n",
       "2014            1\n",
       "Name: Cease Date, dtype: int64"
      ]
     },
     "execution_count": 139,
     "metadata": {},
     "output_type": "execute_result"
    }
   ],
   "source": [
    "dete_survey['Cease Date'].value_counts()"
   ]
  },
  {
   "cell_type": "markdown",
   "metadata": {},
   "source": [
    "A lot more cleaning needs to be done here, but a quick one is to set the 'Not Stated' to 2012"
   ]
  },
  {
   "cell_type": "code",
   "execution_count": 140,
   "metadata": {
    "collapsed": true
   },
   "outputs": [],
   "source": [
    "dete_survey['Cease Date'] = dete_survey['Cease Date'].replace('Not Stated', '2012')"
   ]
  },
  {
   "cell_type": "code",
   "execution_count": 141,
   "metadata": {
    "collapsed": true
   },
   "outputs": [],
   "source": [
    "pattern = r\"(2[0-9]{3})\""
   ]
  },
  {
   "cell_type": "code",
   "execution_count": 142,
   "metadata": {
    "collapsed": false
   },
   "outputs": [
    {
     "name": "stderr",
     "output_type": "stream",
     "text": [
      "/dataquest/system/env/python3/lib/python3.4/site-packages/ipykernel/__main__.py:1: FutureWarning:\n",
      "\n",
      "currently extract(expand=None) means expand=False (return Index/Series/DataFrame) but in a future version of pandas this will be changed to expand=True (return DataFrame)\n",
      "\n"
     ]
    }
   ],
   "source": [
    "dates = dete_survey['Cease Date'].str.extract(pattern)"
   ]
  },
  {
   "cell_type": "code",
   "execution_count": 143,
   "metadata": {
    "collapsed": true
   },
   "outputs": [],
   "source": [
    "dete_survey['Cease Date'] = dates"
   ]
  },
  {
   "cell_type": "code",
   "execution_count": 144,
   "metadata": {
    "collapsed": false
   },
   "outputs": [
    {
     "data": {
      "text/plain": [
       "2012    388\n",
       "2013    380\n",
       "2014     51\n",
       "2010      2\n",
       "2006      1\n",
       "Name: Cease Date, dtype: int64"
      ]
     },
     "execution_count": 144,
     "metadata": {},
     "output_type": "execute_result"
    }
   ],
   "source": [
    "dete_survey['Cease Date'].value_counts()"
   ]
  },
  {
   "cell_type": "code",
   "execution_count": 145,
   "metadata": {
    "collapsed": true
   },
   "outputs": [],
   "source": [
    "dete_survey['Cease Date'] = dete_survey['Cease Date'].astype('int')"
   ]
  },
  {
   "cell_type": "markdown",
   "metadata": {},
   "source": [
    "#### DETE Start Date"
   ]
  },
  {
   "cell_type": "code",
   "execution_count": 146,
   "metadata": {
    "collapsed": false,
    "scrolled": true
   },
   "outputs": [
    {
     "data": {
      "text/plain": [
       "1963           4\n",
       "1965           1\n",
       "1966           1\n",
       "1967           2\n",
       "1968           3\n",
       "1969          10\n",
       "1970          21\n",
       "1971          10\n",
       "1972          12\n",
       "1973           8\n",
       "1974          14\n",
       "1975          21\n",
       "1976          15\n",
       "1977          11\n",
       "1978          15\n",
       "1979          14\n",
       "1980          14\n",
       "1981           9\n",
       "1982           4\n",
       "1983           9\n",
       "1984          10\n",
       "1985           8\n",
       "1986          12\n",
       "1987           7\n",
       "1988          15\n",
       "1989          17\n",
       "1990          20\n",
       "1991          18\n",
       "1992          18\n",
       "1993          13\n",
       "1994          10\n",
       "1995          14\n",
       "1996          19\n",
       "1997          14\n",
       "1998          14\n",
       "1999          19\n",
       "2000          18\n",
       "2001          10\n",
       "2002          15\n",
       "2003          15\n",
       "2004          18\n",
       "2005          20\n",
       "2006          23\n",
       "2007          34\n",
       "2008          31\n",
       "2009          24\n",
       "2010          27\n",
       "2011          40\n",
       "2012          27\n",
       "2013          21\n",
       "Not Stated    73\n",
       "Name: DETE Start Date, dtype: int64"
      ]
     },
     "execution_count": 146,
     "metadata": {},
     "output_type": "execute_result"
    }
   ],
   "source": [
    "dete_survey['DETE Start Date'].value_counts().sort_index()"
   ]
  },
  {
   "cell_type": "code",
   "execution_count": 147,
   "metadata": {
    "collapsed": true
   },
   "outputs": [],
   "source": [
    "dete_survey['DETE Start Date'] = dete_survey['DETE Start Date'].replace('Not Stated', np.NaN)"
   ]
  },
  {
   "cell_type": "code",
   "execution_count": 148,
   "metadata": {
    "collapsed": false
   },
   "outputs": [],
   "source": [
    "dete_survey['DETE Start Date'] = dete_survey['DETE Start Date'].astype('float')"
   ]
  },
  {
   "cell_type": "code",
   "execution_count": 149,
   "metadata": {
    "collapsed": false,
    "scrolled": false
   },
   "outputs": [
    {
     "data": {
      "text/plain": [
       "<matplotlib.axes._subplots.AxesSubplot at 0x7f4f7deb9be0>"
      ]
     },
     "execution_count": 149,
     "metadata": {},
     "output_type": "execute_result"
    },
    {
     "data": {
      "image/png": "[encoded data removed]",
      "text/plain": [
       "<matplotlib.figure.Figure at 0x7f4f7e01db38>"
      ]
     },
     "metadata": {},
     "output_type": "display_data"
    }
   ],
   "source": [
    "dete_survey['DETE Start Date'].hist(bins=30)"
   ]
  },
  {
   "cell_type": "markdown",
   "metadata": {},
   "source": [
    "I can't drop 70 values into a particular year. More data to be analysed before I can estimate start date"
   ]
  },
  {
   "cell_type": "markdown",
   "metadata": {},
   "source": [
    "#### Role Start Date"
   ]
  },
  {
   "cell_type": "code",
   "execution_count": 150,
   "metadata": {
    "collapsed": false
   },
   "outputs": [
    {
     "data": {
      "text/plain": [
       "1970           2\n",
       "1971           1\n",
       "1972           1\n",
       "1973           1\n",
       "1974           1\n",
       "1975          12\n",
       "1976           9\n",
       "1977           2\n",
       "1978           9\n",
       "1979           7\n",
       "1980           3\n",
       "1981           5\n",
       "1982           4\n",
       "1983           5\n",
       "1984           4\n",
       "1985           6\n",
       "1986          11\n",
       "1987           5\n",
       "1988          14\n",
       "1989          18\n",
       "1990          12\n",
       "1991           8\n",
       "1992          17\n",
       "1993           9\n",
       "1994           7\n",
       "1995          13\n",
       "1996          19\n",
       "1997          13\n",
       "1998          15\n",
       "1999          19\n",
       "200            1\n",
       "2000          20\n",
       "2001          15\n",
       "2002          16\n",
       "2003          20\n",
       "2004          22\n",
       "2005          20\n",
       "2006          25\n",
       "2007          41\n",
       "2008          45\n",
       "2009          38\n",
       "2010          46\n",
       "2011          57\n",
       "2012          65\n",
       "2013          41\n",
       "Not Stated    98\n",
       "Name: Role Start Date, dtype: int64"
      ]
     },
     "execution_count": 150,
     "metadata": {},
     "output_type": "execute_result"
    }
   ],
   "source": [
    "dete_survey['Role Start Date'].value_counts().sort_index()"
   ]
  },
  {
   "cell_type": "code",
   "execution_count": 151,
   "metadata": {
    "collapsed": true
   },
   "outputs": [],
   "source": [
    "dete_survey['Role Start Date'] = dete_survey['Role Start Date'].replace('Not Stated', np.NaN)"
   ]
  },
  {
   "cell_type": "code",
   "execution_count": 152,
   "metadata": {
    "collapsed": true
   },
   "outputs": [],
   "source": [
    "dete_survey['Role Start Date'] = dete_survey['Role Start Date'].astype('float')"
   ]
  },
  {
   "cell_type": "code",
   "execution_count": 153,
   "metadata": {
    "collapsed": false,
    "scrolled": true
   },
   "outputs": [
    {
     "data": {
      "text/plain": [
       "<matplotlib.axes._subplots.AxesSubplot at 0x7f4f7de99748>"
      ]
     },
     "execution_count": 153,
     "metadata": {},
     "output_type": "execute_result"
    },
    {
     "data": {
      "image/png": "[encoded data removed]",
      "text/plain": [
       "<matplotlib.figure.Figure at 0x7f4f7dece6a0>"
      ]
     },
     "metadata": {},
     "output_type": "display_data"
    }
   ],
   "source": [
    "dete_survey['Role Start Date'].hist(bins=70)"
   ]
  },
  {
   "cell_type": "markdown",
   "metadata": {},
   "source": [
    "Outlier at year 200"
   ]
  },
  {
   "cell_type": "code",
   "execution_count": 154,
   "metadata": {
    "collapsed": false
   },
   "outputs": [
    {
     "data": {
      "text/html": [
       "<div>\n",
       "<style scoped>\n",
       "    .dataframe tbody tr th:only-of-type {\n",
       "        vertical-align: middle;\n",
       "    }\n",
       "\n",
       "    .dataframe tbody tr th {\n",
       "        vertical-align: top;\n",
       "    }\n",
       "\n",
       "    .dataframe thead th {\n",
       "        text-align: right;\n",
       "    }\n",
       "</style>\n",
       "<table border=\"1\" class=\"dataframe\">\n",
       "  <thead>\n",
       "    <tr style=\"text-align: right;\">\n",
       "      <th></th>\n",
       "      <th>ID</th>\n",
       "      <th>SeparationType</th>\n",
       "      <th>Cease Date</th>\n",
       "      <th>DETE Start Date</th>\n",
       "      <th>Role Start Date</th>\n",
       "      <th>Position</th>\n",
       "      <th>Region</th>\n",
       "      <th>Employment Status</th>\n",
       "      <th>Career move to public sector</th>\n",
       "      <th>Career move to private sector</th>\n",
       "      <th>...</th>\n",
       "      <th>Traumatic incident</th>\n",
       "      <th>Work life balance</th>\n",
       "      <th>Workload</th>\n",
       "      <th>None of the above</th>\n",
       "      <th>Gender</th>\n",
       "      <th>Age</th>\n",
       "      <th>Aboriginal</th>\n",
       "      <th>South Sea</th>\n",
       "      <th>Disability</th>\n",
       "      <th>NESB</th>\n",
       "    </tr>\n",
       "  </thead>\n",
       "  <tbody>\n",
       "    <tr>\n",
       "      <th>390</th>\n",
       "      <td>391</td>\n",
       "      <td>Resignation-Other employer</td>\n",
       "      <td>2013</td>\n",
       "      <td>2000.0</td>\n",
       "      <td>200.0</td>\n",
       "      <td>Teacher</td>\n",
       "      <td>Central Queensland</td>\n",
       "      <td>Permanent Full-time</td>\n",
       "      <td>False</td>\n",
       "      <td>True</td>\n",
       "      <td>...</td>\n",
       "      <td>False</td>\n",
       "      <td>False</td>\n",
       "      <td>False</td>\n",
       "      <td>False</td>\n",
       "      <td>Female</td>\n",
       "      <td>46-50</td>\n",
       "      <td>False</td>\n",
       "      <td>False</td>\n",
       "      <td>False</td>\n",
       "      <td>False</td>\n",
       "    </tr>\n",
       "  </tbody>\n",
       "</table>\n",
       "<p>1 rows × 32 columns</p>\n",
       "</div>"
      ],
      "text/plain": [
       "      ID              SeparationType  Cease Date  DETE Start Date  \\\n",
       "390  391  Resignation-Other employer        2013           2000.0   \n",
       "\n",
       "     Role Start Date Position              Region    Employment Status  \\\n",
       "390            200.0  Teacher  Central Queensland  Permanent Full-time   \n",
       "\n",
       "     Career move to public sector  Career move to private sector  ...    \\\n",
       "390                         False                           True  ...     \n",
       "\n",
       "     Traumatic incident  Work life balance  Workload  None of the above  \\\n",
       "390               False              False     False              False   \n",
       "\n",
       "     Gender    Age  Aboriginal  South Sea  Disability   NESB  \n",
       "390  Female  46-50       False      False       False  False  \n",
       "\n",
       "[1 rows x 32 columns]"
      ]
     },
     "execution_count": 154,
     "metadata": {},
     "output_type": "execute_result"
    }
   ],
   "source": [
    "dete_survey[dete_survey['Role Start Date']==200]"
   ]
  },
  {
   "cell_type": "code",
   "execution_count": 155,
   "metadata": {
    "collapsed": true
   },
   "outputs": [],
   "source": [
    "dete_survey.loc[dete_survey['Role Start Date']==200, 'Role Start Date'] = 2000"
   ]
  },
  {
   "cell_type": "code",
   "execution_count": 156,
   "metadata": {
    "collapsed": false,
    "scrolled": true
   },
   "outputs": [
    {
     "data": {
      "text/plain": [
       "<matplotlib.axes._subplots.AxesSubplot at 0x7f4f7de07748>"
      ]
     },
     "execution_count": 156,
     "metadata": {},
     "output_type": "execute_result"
    },
    {
     "data": {
      "image/png": "[encoded data removed]",
      "text/plain": [
       "<matplotlib.figure.Figure at 0x7f4f7df324e0>"
      ]
     },
     "metadata": {},
     "output_type": "display_data"
    }
   ],
   "source": [
    "dete_survey['Role Start Date'].hist(bins=30)"
   ]
  },
  {
   "cell_type": "markdown",
   "metadata": {},
   "source": [
    "I don't think Role Start Date is important in this analysis, since the department as a whole is looking at dissatisfaction."
   ]
  },
  {
   "cell_type": "code",
   "execution_count": 157,
   "metadata": {
    "collapsed": false
   },
   "outputs": [
    {
     "name": "stdout",
     "output_type": "stream",
     "text": [
      "<class 'pandas.core.frame.DataFrame'>\n",
      "RangeIndex: 822 entries, 0 to 821\n",
      "Data columns (total 32 columns):\n",
      "ID                                     822 non-null int64\n",
      "SeparationType                         822 non-null object\n",
      "Cease Date                             822 non-null int64\n",
      "DETE Start Date                        749 non-null float64\n",
      "Role Start Date                        724 non-null float64\n",
      "Position                               822 non-null object\n",
      "Region                                 822 non-null object\n",
      "Employment Status                      822 non-null object\n",
      "Career move to public sector           822 non-null bool\n",
      "Career move to private sector          822 non-null bool\n",
      "Interpersonal conflicts                822 non-null bool\n",
      "Job dissatisfaction                    822 non-null bool\n",
      "Dissatisfaction with the department    822 non-null bool\n",
      "Physical work environment              822 non-null bool\n",
      "Lack of recognition                    822 non-null bool\n",
      "Lack of job security                   822 non-null bool\n",
      "Work location                          822 non-null bool\n",
      "Employment conditions                  822 non-null bool\n",
      "Maternity/family                       822 non-null bool\n",
      "Relocation                             822 non-null bool\n",
      "Study/Travel                           822 non-null bool\n",
      "Ill Health                             822 non-null bool\n",
      "Traumatic incident                     822 non-null bool\n",
      "Work life balance                      822 non-null bool\n",
      "Workload                               822 non-null bool\n",
      "None of the above                      822 non-null bool\n",
      "Gender                                 822 non-null object\n",
      "Age                                    822 non-null object\n",
      "Aboriginal                             822 non-null object\n",
      "South Sea                              822 non-null bool\n",
      "Disability                             822 non-null bool\n",
      "NESB                                   822 non-null bool\n",
      "dtypes: bool(21), float64(2), int64(2), object(7)\n",
      "memory usage: 87.6+ KB\n"
     ]
    }
   ],
   "source": [
    "dete_survey.info()"
   ]
  },
  {
   "cell_type": "code",
   "execution_count": 158,
   "metadata": {
    "collapsed": false
   },
   "outputs": [
    {
     "data": {
      "text/plain": [
       "NaN        69\n",
       " 2011.0     2\n",
       " 1997.0     1\n",
       " 2003.0     1\n",
       "Name: Role Start Date, dtype: int64"
      ]
     },
     "execution_count": 158,
     "metadata": {},
     "output_type": "execute_result"
    }
   ],
   "source": [
    "dete_survey.loc[dete_survey['DETE Start Date'].isnull(), 'Role Start Date'].value_counts(dropna=False)"
   ]
  },
  {
   "cell_type": "markdown",
   "metadata": {},
   "source": [
    "checking if any of the null DETE start dates have a numerical role start date, and copying it over"
   ]
  },
  {
   "cell_type": "code",
   "execution_count": 159,
   "metadata": {
    "collapsed": true
   },
   "outputs": [],
   "source": [
    "dete_survey.loc[dete_survey['DETE Start Date'].isnull(), 'DETE Start Date'] = dete_survey.loc[dete_survey['DETE Start Date'].isnull(), 'Role Start Date']"
   ]
  },
  {
   "cell_type": "code",
   "execution_count": 160,
   "metadata": {
    "collapsed": false
   },
   "outputs": [
    {
     "name": "stdout",
     "output_type": "stream",
     "text": [
      "<class 'pandas.core.frame.DataFrame'>\n",
      "RangeIndex: 822 entries, 0 to 821\n",
      "Data columns (total 32 columns):\n",
      "ID                                     822 non-null int64\n",
      "SeparationType                         822 non-null object\n",
      "Cease Date                             822 non-null int64\n",
      "DETE Start Date                        753 non-null float64\n",
      "Role Start Date                        724 non-null float64\n",
      "Position                               822 non-null object\n",
      "Region                                 822 non-null object\n",
      "Employment Status                      822 non-null object\n",
      "Career move to public sector           822 non-null bool\n",
      "Career move to private sector          822 non-null bool\n",
      "Interpersonal conflicts                822 non-null bool\n",
      "Job dissatisfaction                    822 non-null bool\n",
      "Dissatisfaction with the department    822 non-null bool\n",
      "Physical work environment              822 non-null bool\n",
      "Lack of recognition                    822 non-null bool\n",
      "Lack of job security                   822 non-null bool\n",
      "Work location                          822 non-null bool\n",
      "Employment conditions                  822 non-null bool\n",
      "Maternity/family                       822 non-null bool\n",
      "Relocation                             822 non-null bool\n",
      "Study/Travel                           822 non-null bool\n",
      "Ill Health                             822 non-null bool\n",
      "Traumatic incident                     822 non-null bool\n",
      "Work life balance                      822 non-null bool\n",
      "Workload                               822 non-null bool\n",
      "None of the above                      822 non-null bool\n",
      "Gender                                 822 non-null object\n",
      "Age                                    822 non-null object\n",
      "Aboriginal                             822 non-null object\n",
      "South Sea                              822 non-null bool\n",
      "Disability                             822 non-null bool\n",
      "NESB                                   822 non-null bool\n",
      "dtypes: bool(21), float64(2), int64(2), object(7)\n",
      "memory usage: 87.6+ KB\n"
     ]
    }
   ],
   "source": [
    "dete_survey.info()"
   ]
  },
  {
   "cell_type": "markdown",
   "metadata": {},
   "source": [
    "#### Institute Service"
   ]
  },
  {
   "cell_type": "code",
   "execution_count": 161,
   "metadata": {
    "collapsed": true
   },
   "outputs": [],
   "source": [
    "dete_survey['institute_service'] = dete_survey['Cease Date'] - dete_survey['DETE Start Date']"
   ]
  },
  {
   "cell_type": "code",
   "execution_count": 162,
   "metadata": {
    "collapsed": false
   },
   "outputs": [
    {
     "name": "stdout",
     "output_type": "stream",
     "text": [
      "<class 'pandas.core.frame.DataFrame'>\n",
      "RangeIndex: 822 entries, 0 to 821\n",
      "Data columns (total 33 columns):\n",
      "ID                                     822 non-null int64\n",
      "SeparationType                         822 non-null object\n",
      "Cease Date                             822 non-null int64\n",
      "DETE Start Date                        753 non-null float64\n",
      "Role Start Date                        724 non-null float64\n",
      "Position                               822 non-null object\n",
      "Region                                 822 non-null object\n",
      "Employment Status                      822 non-null object\n",
      "Career move to public sector           822 non-null bool\n",
      "Career move to private sector          822 non-null bool\n",
      "Interpersonal conflicts                822 non-null bool\n",
      "Job dissatisfaction                    822 non-null bool\n",
      "Dissatisfaction with the department    822 non-null bool\n",
      "Physical work environment              822 non-null bool\n",
      "Lack of recognition                    822 non-null bool\n",
      "Lack of job security                   822 non-null bool\n",
      "Work location                          822 non-null bool\n",
      "Employment conditions                  822 non-null bool\n",
      "Maternity/family                       822 non-null bool\n",
      "Relocation                             822 non-null bool\n",
      "Study/Travel                           822 non-null bool\n",
      "Ill Health                             822 non-null bool\n",
      "Traumatic incident                     822 non-null bool\n",
      "Work life balance                      822 non-null bool\n",
      "Workload                               822 non-null bool\n",
      "None of the above                      822 non-null bool\n",
      "Gender                                 822 non-null object\n",
      "Age                                    822 non-null object\n",
      "Aboriginal                             822 non-null object\n",
      "South Sea                              822 non-null bool\n",
      "Disability                             822 non-null bool\n",
      "NESB                                   822 non-null bool\n",
      "institute_service                      753 non-null float64\n",
      "dtypes: bool(21), float64(3), int64(2), object(7)\n",
      "memory usage: 94.0+ KB\n"
     ]
    }
   ],
   "source": [
    "dete_survey.info()"
   ]
  },
  {
   "cell_type": "code",
   "execution_count": 163,
   "metadata": {
    "collapsed": true
   },
   "outputs": [],
   "source": [
    "dete_survey = dete_survey.drop(columns='Role Start Date')"
   ]
  },
  {
   "cell_type": "code",
   "execution_count": 164,
   "metadata": {
    "collapsed": false
   },
   "outputs": [
    {
     "data": {
      "text/plain": [
       "<matplotlib.axes._subplots.AxesSubplot at 0x7f4f7dc18c88>"
      ]
     },
     "execution_count": 164,
     "metadata": {},
     "output_type": "execute_result"
    },
    {
     "data": {
      "image/png": "[encoded data removed]",
      "text/plain": [
       "<matplotlib.figure.Figure at 0x7f4f7dc1f4a8>"
      ]
     },
     "metadata": {},
     "output_type": "display_data"
    }
   ],
   "source": [
    "dete_survey['institute_service'].hist(bins=20)"
   ]
  },
  {
   "cell_type": "markdown",
   "metadata": {},
   "source": [
    "I still can't replace the missing values with anything without distorting the graph, so I am going to drop any row with a null start date/institute service column"
   ]
  },
  {
   "cell_type": "code",
   "execution_count": 165,
   "metadata": {
    "collapsed": false
   },
   "outputs": [
    {
     "name": "stdout",
     "output_type": "stream",
     "text": [
      "<class 'pandas.core.frame.DataFrame'>\n",
      "RangeIndex: 822 entries, 0 to 821\n",
      "Data columns (total 32 columns):\n",
      "ID                                     822 non-null int64\n",
      "SeparationType                         822 non-null object\n",
      "Cease Date                             822 non-null int64\n",
      "DETE Start Date                        753 non-null float64\n",
      "Position                               822 non-null object\n",
      "Region                                 822 non-null object\n",
      "Employment Status                      822 non-null object\n",
      "Career move to public sector           822 non-null bool\n",
      "Career move to private sector          822 non-null bool\n",
      "Interpersonal conflicts                822 non-null bool\n",
      "Job dissatisfaction                    822 non-null bool\n",
      "Dissatisfaction with the department    822 non-null bool\n",
      "Physical work environment              822 non-null bool\n",
      "Lack of recognition                    822 non-null bool\n",
      "Lack of job security                   822 non-null bool\n",
      "Work location                          822 non-null bool\n",
      "Employment conditions                  822 non-null bool\n",
      "Maternity/family                       822 non-null bool\n",
      "Relocation                             822 non-null bool\n",
      "Study/Travel                           822 non-null bool\n",
      "Ill Health                             822 non-null bool\n",
      "Traumatic incident                     822 non-null bool\n",
      "Work life balance                      822 non-null bool\n",
      "Workload                               822 non-null bool\n",
      "None of the above                      822 non-null bool\n",
      "Gender                                 822 non-null object\n",
      "Age                                    822 non-null object\n",
      "Aboriginal                             822 non-null object\n",
      "South Sea                              822 non-null bool\n",
      "Disability                             822 non-null bool\n",
      "NESB                                   822 non-null bool\n",
      "institute_service                      753 non-null float64\n",
      "dtypes: bool(21), float64(2), int64(2), object(7)\n",
      "memory usage: 87.6+ KB\n"
     ]
    }
   ],
   "source": [
    "dete_survey.info()"
   ]
  },
  {
   "cell_type": "code",
   "execution_count": 166,
   "metadata": {
    "collapsed": false
   },
   "outputs": [],
   "source": [
    "dete_survey = dete_survey.dropna()"
   ]
  },
  {
   "cell_type": "code",
   "execution_count": 167,
   "metadata": {
    "collapsed": false
   },
   "outputs": [
    {
     "name": "stdout",
     "output_type": "stream",
     "text": [
      "<class 'pandas.core.frame.DataFrame'>\n",
      "Int64Index: 753 entries, 0 to 820\n",
      "Data columns (total 32 columns):\n",
      "ID                                     753 non-null int64\n",
      "SeparationType                         753 non-null object\n",
      "Cease Date                             753 non-null int64\n",
      "DETE Start Date                        753 non-null float64\n",
      "Position                               753 non-null object\n",
      "Region                                 753 non-null object\n",
      "Employment Status                      753 non-null object\n",
      "Career move to public sector           753 non-null bool\n",
      "Career move to private sector          753 non-null bool\n",
      "Interpersonal conflicts                753 non-null bool\n",
      "Job dissatisfaction                    753 non-null bool\n",
      "Dissatisfaction with the department    753 non-null bool\n",
      "Physical work environment              753 non-null bool\n",
      "Lack of recognition                    753 non-null bool\n",
      "Lack of job security                   753 non-null bool\n",
      "Work location                          753 non-null bool\n",
      "Employment conditions                  753 non-null bool\n",
      "Maternity/family                       753 non-null bool\n",
      "Relocation                             753 non-null bool\n",
      "Study/Travel                           753 non-null bool\n",
      "Ill Health                             753 non-null bool\n",
      "Traumatic incident                     753 non-null bool\n",
      "Work life balance                      753 non-null bool\n",
      "Workload                               753 non-null bool\n",
      "None of the above                      753 non-null bool\n",
      "Gender                                 753 non-null object\n",
      "Age                                    753 non-null object\n",
      "Aboriginal                             753 non-null object\n",
      "South Sea                              753 non-null bool\n",
      "Disability                             753 non-null bool\n",
      "NESB                                   753 non-null bool\n",
      "institute_service                      753 non-null float64\n",
      "dtypes: bool(21), float64(2), int64(2), object(7)\n",
      "memory usage: 86.0+ KB\n"
     ]
    }
   ],
   "source": [
    "dete_survey.info()"
   ]
  },
  {
   "cell_type": "code",
   "execution_count": 168,
   "metadata": {
    "collapsed": false
   },
   "outputs": [],
   "source": [
    "dete_survey.to_csv('dete_survey_first_clean.csv', index=False)"
   ]
  },
  {
   "cell_type": "markdown",
   "metadata": {},
   "source": [
    "# TAFE"
   ]
  },
  {
   "cell_type": "code",
   "execution_count": 169,
   "metadata": {
    "collapsed": true
   },
   "outputs": [],
   "source": [
    "tafe_survey = pd.read_csv('tafe_survey.csv')"
   ]
  },
  {
   "cell_type": "code",
   "execution_count": 170,
   "metadata": {
    "collapsed": false
   },
   "outputs": [],
   "source": [
    "cols = {'Record ID': 'id',\n",
    "'CESSATION YEAR': 'cease_date',\n",
    "'Reason for ceasing employment': 'separationtype',\n",
    "'Gender. What is your Gender?': 'gender',\n",
    "'CurrentAge. Current Age': 'age',\n",
    "'Employment Type. Employment Type': 'employment_status',\n",
    "'Classification. Classification': 'position',\n",
    "'LengthofServiceOverall. Overall Length of Service at Institute (in years)': 'institute_service'}"
   ]
  },
  {
   "cell_type": "code",
   "execution_count": 171,
   "metadata": {
    "collapsed": true
   },
   "outputs": [],
   "source": [
    "tafe_survey.rename(columns=cols, inplace=True)"
   ]
  },
  {
   "cell_type": "code",
   "execution_count": 172,
   "metadata": {
    "collapsed": false
   },
   "outputs": [],
   "source": [
    "tafe_survey = tafe_survey.drop(columns = tafe_survey.columns[17:66])"
   ]
  },
  {
   "cell_type": "code",
   "execution_count": 173,
   "metadata": {
    "collapsed": true
   },
   "outputs": [],
   "source": [
    "tafe_survey = tafe_survey.drop(columns='LengthofServiceCurrent. Length of Service at current workplace (in years)')"
   ]
  },
  {
   "cell_type": "code",
   "execution_count": 174,
   "metadata": {
    "collapsed": false
   },
   "outputs": [
    {
     "name": "stdout",
     "output_type": "stream",
     "text": [
      "<class 'pandas.core.frame.DataFrame'>\n",
      "RangeIndex: 702 entries, 0 to 701\n",
      "Data columns (total 22 columns):\n",
      "id                                                     702 non-null float64\n",
      "Institute                                              702 non-null object\n",
      "WorkArea                                               702 non-null object\n",
      "cease_date                                             695 non-null float64\n",
      "separationtype                                         701 non-null object\n",
      "Contributing Factors. Career Move - Public Sector      437 non-null object\n",
      "Contributing Factors. Career Move - Private Sector     437 non-null object\n",
      "Contributing Factors. Career Move - Self-employment    437 non-null object\n",
      "Contributing Factors. Ill Health                       437 non-null object\n",
      "Contributing Factors. Maternity/Family                 437 non-null object\n",
      "Contributing Factors. Dissatisfaction                  437 non-null object\n",
      "Contributing Factors. Job Dissatisfaction              437 non-null object\n",
      "Contributing Factors. Interpersonal Conflict           437 non-null object\n",
      "Contributing Factors. Study                            437 non-null object\n",
      "Contributing Factors. Travel                           437 non-null object\n",
      "Contributing Factors. Other                            437 non-null object\n",
      "Contributing Factors. NONE                             437 non-null object\n",
      "gender                                                 596 non-null object\n",
      "age                                                    596 non-null object\n",
      "employment_status                                      596 non-null object\n",
      "position                                               596 non-null object\n",
      "institute_service                                      596 non-null object\n",
      "dtypes: float64(2), object(20)\n",
      "memory usage: 120.7+ KB\n"
     ]
    }
   ],
   "source": [
    "tafe_survey.info()"
   ]
  },
  {
   "cell_type": "markdown",
   "metadata": {},
   "source": [
    "## First Clean"
   ]
  },
  {
   "cell_type": "markdown",
   "metadata": {},
   "source": [
    "#### Institute"
   ]
  },
  {
   "cell_type": "code",
   "execution_count": 175,
   "metadata": {
    "collapsed": false,
    "scrolled": true
   },
   "outputs": [
    {
     "data": {
      "text/plain": [
       "Brisbane North Institute of TAFE         161\n",
       "Southern Queensland Institute of TAFE    142\n",
       "Central Queensland Institute of TAFE     108\n",
       "Sunshine Coast Institute of TAFE          91\n",
       "Tropical North Institute of TAFE          70\n",
       "SkillsTech Australia                      57\n",
       "Southbank Institute of Technology         43\n",
       "Barrier Reef Institute of TAFE            14\n",
       "Mount Isa Institute of TAFE               12\n",
       "Wide Bay Institute of TAFE                 2\n",
       "Metropolitan South Institute of TAFE       1\n",
       "The Bremer Institute of TAFE               1\n",
       "Name: Institute, dtype: int64"
      ]
     },
     "execution_count": 175,
     "metadata": {},
     "output_type": "execute_result"
    }
   ],
   "source": [
    "tafe_survey['Institute'].value_counts()"
   ]
  },
  {
   "cell_type": "markdown",
   "metadata": {},
   "source": [
    "#### Work Area"
   ]
  },
  {
   "cell_type": "code",
   "execution_count": 176,
   "metadata": {
    "collapsed": false
   },
   "outputs": [
    {
     "data": {
      "text/plain": [
       "Non-Delivery (corporate)    432\n",
       "Delivery (teaching)         270\n",
       "Name: WorkArea, dtype: int64"
      ]
     },
     "execution_count": 176,
     "metadata": {},
     "output_type": "execute_result"
    }
   ],
   "source": [
    "tafe_survey['WorkArea'].value_counts(dropna=False)"
   ]
  },
  {
   "cell_type": "markdown",
   "metadata": {},
   "source": [
    "#### Cease Date"
   ]
  },
  {
   "cell_type": "code",
   "execution_count": 177,
   "metadata": {
    "collapsed": false
   },
   "outputs": [
    {
     "data": {
      "text/plain": [
       " 2011.0    268\n",
       " 2012.0    235\n",
       " 2010.0    103\n",
       " 2013.0     85\n",
       "NaN          7\n",
       " 2009.0      4\n",
       "Name: cease_date, dtype: int64"
      ]
     },
     "execution_count": 177,
     "metadata": {},
     "output_type": "execute_result"
    }
   ],
   "source": [
    "tafe_survey['cease_date'].value_counts(dropna=False)"
   ]
  },
  {
   "cell_type": "code",
   "execution_count": 178,
   "metadata": {
    "collapsed": true
   },
   "outputs": [],
   "source": [
    "tafe_survey['cease_date'] = tafe_survey['cease_date'].fillna(2011.0)"
   ]
  },
  {
   "cell_type": "code",
   "execution_count": 179,
   "metadata": {
    "collapsed": false
   },
   "outputs": [
    {
     "data": {
      "text/plain": [
       "2011.0    275\n",
       "2012.0    235\n",
       "2010.0    103\n",
       "2013.0     85\n",
       "2009.0      4\n",
       "Name: cease_date, dtype: int64"
      ]
     },
     "execution_count": 179,
     "metadata": {},
     "output_type": "execute_result"
    }
   ],
   "source": [
    "tafe_survey['cease_date'].value_counts(dropna=False)"
   ]
  },
  {
   "cell_type": "markdown",
   "metadata": {},
   "source": [
    "#### Seperation Type"
   ]
  },
  {
   "cell_type": "code",
   "execution_count": 180,
   "metadata": {
    "collapsed": false
   },
   "outputs": [
    {
     "data": {
      "text/plain": [
       "Resignation                 340\n",
       "Contract Expired            127\n",
       "Retrenchment/ Redundancy    104\n",
       "Retirement                   82\n",
       "Transfer                     25\n",
       "Termination                  23\n",
       "NaN                           1\n",
       "Name: separationtype, dtype: int64"
      ]
     },
     "execution_count": 180,
     "metadata": {},
     "output_type": "execute_result"
    }
   ],
   "source": [
    "tafe_survey['separationtype'].value_counts(dropna=False)"
   ]
  },
  {
   "cell_type": "code",
   "execution_count": 181,
   "metadata": {
    "collapsed": true
   },
   "outputs": [],
   "source": [
    "tafe_survey['separationtype'] = tafe_survey['separationtype'].fillna('Resignation')"
   ]
  },
  {
   "cell_type": "code",
   "execution_count": 182,
   "metadata": {
    "collapsed": false
   },
   "outputs": [
    {
     "data": {
      "text/plain": [
       "Resignation                 341\n",
       "Contract Expired            127\n",
       "Retrenchment/ Redundancy    104\n",
       "Retirement                   82\n",
       "Transfer                     25\n",
       "Termination                  23\n",
       "Name: separationtype, dtype: int64"
      ]
     },
     "execution_count": 182,
     "metadata": {},
     "output_type": "execute_result"
    }
   ],
   "source": [
    "tafe_survey['separationtype'].value_counts(dropna=False)"
   ]
  },
  {
   "cell_type": "code",
   "execution_count": 183,
   "metadata": {
    "collapsed": true
   },
   "outputs": [],
   "source": [
    "cols = {'Contributing Factors. Career Move - Public Sector ' : 'Career move to public sector',\n",
    "'Contributing Factors. Career Move - Private Sector ' : 'Career move to private sector',\n",
    "'Contributing Factors. Career Move - Self-employment' : 'Career move to self employed',\n",
    "'Contributing Factors. Ill Health' : 'Ill Health',\n",
    "'Contributing Factors. Maternity/Family' : 'Maternity/family',                \n",
    "'Contributing Factors. Dissatisfaction' : 'Dissatisfaction',         \n",
    "'Contributing Factors. Job Dissatisfaction' : 'Job dissatisfaction',      \n",
    "'Contributing Factors. Interpersonal Conflict' : 'Interpersonal conflicts',         \n",
    "'Contributing Factors. Study' : 'Study',                        \n",
    "'Contributing Factors. Travel' :  'Travel',                        \n",
    "'Contributing Factors. Other' :  'Other',                         \n",
    "'Contributing Factors. NONE' : 'None of the above'}\n",
    "                          "
   ]
  },
  {
   "cell_type": "code",
   "execution_count": 184,
   "metadata": {
    "collapsed": true
   },
   "outputs": [],
   "source": [
    "tafe_survey.rename(columns=cols, inplace=True)"
   ]
  },
  {
   "cell_type": "code",
   "execution_count": 185,
   "metadata": {
    "collapsed": false
   },
   "outputs": [
    {
     "name": "stdout",
     "output_type": "stream",
     "text": [
      "<class 'pandas.core.frame.DataFrame'>\n",
      "RangeIndex: 702 entries, 0 to 701\n",
      "Data columns (total 22 columns):\n",
      "id                               702 non-null float64\n",
      "Institute                        702 non-null object\n",
      "WorkArea                         702 non-null object\n",
      "cease_date                       702 non-null float64\n",
      "separationtype                   702 non-null object\n",
      "Career move to public sector     437 non-null object\n",
      "Career move to private sector    437 non-null object\n",
      "Career move to self employed     437 non-null object\n",
      "Ill Health                       437 non-null object\n",
      "Maternity/family                 437 non-null object\n",
      "Dissatisfaction                  437 non-null object\n",
      "Job dissatisfaction              437 non-null object\n",
      "Interpersonal conflicts          437 non-null object\n",
      "Study                            437 non-null object\n",
      "Travel                           437 non-null object\n",
      "Other                            437 non-null object\n",
      "None of the above                437 non-null object\n",
      "gender                           596 non-null object\n",
      "age                              596 non-null object\n",
      "employment_status                596 non-null object\n",
      "position                         596 non-null object\n",
      "institute_service                596 non-null object\n",
      "dtypes: float64(2), object(20)\n",
      "memory usage: 120.7+ KB\n"
     ]
    }
   ],
   "source": [
    "tafe_survey.info()"
   ]
  },
  {
   "cell_type": "code",
   "execution_count": 186,
   "metadata": {
    "collapsed": false
   },
   "outputs": [
    {
     "data": {
      "text/plain": [
       "-                              375\n",
       "NaN                            265\n",
       "Career Move - Public Sector     62\n",
       "Name: Career move to public sector, dtype: int64"
      ]
     },
     "execution_count": 186,
     "metadata": {},
     "output_type": "execute_result"
    }
   ],
   "source": [
    "tafe_survey['Career move to public sector'].value_counts(dropna=False)"
   ]
  },
  {
   "cell_type": "code",
   "execution_count": 187,
   "metadata": {
    "collapsed": false
   },
   "outputs": [
    {
     "data": {
      "text/plain": [
       "<matplotlib.axes._subplots.AxesSubplot at 0x7f4f76156fd0>"
      ]
     },
     "execution_count": 187,
     "metadata": {},
     "output_type": "execute_result"
    },
    {
     "data": {
      "image/png": "[encoded data removed]",
      "text/plain": [
       "<matplotlib.figure.Figure at 0x7f4f76151908>"
      ]
     },
     "metadata": {},
     "output_type": "display_data"
    }
   ],
   "source": [
    "import seaborn as sns\n",
    "sns.heatmap(tafe_survey.isnull(), cbar=False)"
   ]
  },
  {
   "cell_type": "markdown",
   "metadata": {},
   "source": [
    "Since the surveys that are missing dissatisfaction data are missing the entire survey, I am going to remove them, as I believe some of them may have been dissatisfied and were not given the survey, and to mark them false would reduce the dissatisfaction rate artifically"
   ]
  },
  {
   "cell_type": "code",
   "execution_count": 188,
   "metadata": {
    "collapsed": true
   },
   "outputs": [],
   "source": [
    "tafe_survey = tafe_survey.loc[tafe_survey['Career move to public sector'].notnull()]"
   ]
  },
  {
   "cell_type": "code",
   "execution_count": 189,
   "metadata": {
    "collapsed": false
   },
   "outputs": [
    {
     "data": {
      "text/plain": [
       "<matplotlib.axes._subplots.AxesSubplot at 0x7f4f755e2cc0>"
      ]
     },
     "execution_count": 189,
     "metadata": {},
     "output_type": "execute_result"
    },
    {
     "data": {
      "image/png": "[encoded data removed]",
      "text/plain": [
       "<matplotlib.figure.Figure at 0x7f4f75485160>"
      ]
     },
     "metadata": {},
     "output_type": "display_data"
    }
   ],
   "source": [
    "sns.heatmap(tafe_survey.isnull(), cbar=False)"
   ]
  },
  {
   "cell_type": "code",
   "execution_count": 190,
   "metadata": {
    "collapsed": false
   },
   "outputs": [
    {
     "name": "stdout",
     "output_type": "stream",
     "text": [
      "<class 'pandas.core.frame.DataFrame'>\n",
      "Int64Index: 437 entries, 1 to 701\n",
      "Data columns (total 22 columns):\n",
      "id                               437 non-null float64\n",
      "Institute                        437 non-null object\n",
      "WorkArea                         437 non-null object\n",
      "cease_date                       437 non-null float64\n",
      "separationtype                   437 non-null object\n",
      "Career move to public sector     437 non-null object\n",
      "Career move to private sector    437 non-null object\n",
      "Career move to self employed     437 non-null object\n",
      "Ill Health                       437 non-null object\n",
      "Maternity/family                 437 non-null object\n",
      "Dissatisfaction                  437 non-null object\n",
      "Job dissatisfaction              437 non-null object\n",
      "Interpersonal conflicts          437 non-null object\n",
      "Study                            437 non-null object\n",
      "Travel                           437 non-null object\n",
      "Other                            437 non-null object\n",
      "None of the above                437 non-null object\n",
      "gender                           380 non-null object\n",
      "age                              380 non-null object\n",
      "employment_status                380 non-null object\n",
      "position                         380 non-null object\n",
      "institute_service                380 non-null object\n",
      "dtypes: float64(2), object(20)\n",
      "memory usage: 78.5+ KB\n"
     ]
    }
   ],
   "source": [
    "tafe_survey.info()"
   ]
  },
  {
   "cell_type": "markdown",
   "metadata": {},
   "source": [
    "#### Gender"
   ]
  },
  {
   "cell_type": "code",
   "execution_count": 191,
   "metadata": {
    "collapsed": false
   },
   "outputs": [
    {
     "data": {
      "text/plain": [
       "Female    244\n",
       "Male      136\n",
       "NaN        57\n",
       "Name: gender, dtype: int64"
      ]
     },
     "execution_count": 191,
     "metadata": {},
     "output_type": "execute_result"
    }
   ],
   "source": [
    "tafe_survey['gender'].value_counts(dropna=False)"
   ]
  },
  {
   "cell_type": "code",
   "execution_count": 192,
   "metadata": {
    "collapsed": false
   },
   "outputs": [],
   "source": [
    "tafe_survey['gender']=tafe_survey['gender'].fillna('Female')"
   ]
  },
  {
   "cell_type": "code",
   "execution_count": 193,
   "metadata": {
    "collapsed": false
   },
   "outputs": [
    {
     "data": {
      "text/plain": [
       "Female    301\n",
       "Male      136\n",
       "Name: gender, dtype: int64"
      ]
     },
     "execution_count": 193,
     "metadata": {},
     "output_type": "execute_result"
    }
   ],
   "source": [
    "tafe_survey['gender'].value_counts(dropna=False)"
   ]
  },
  {
   "cell_type": "markdown",
   "metadata": {},
   "source": [
    "#### Age"
   ]
  },
  {
   "cell_type": "code",
   "execution_count": 194,
   "metadata": {
    "collapsed": false
   },
   "outputs": [
    {
     "data": {
      "text/plain": [
       "56 or older      95\n",
       "NaN              57\n",
       "51-55            49\n",
       "41  45           46\n",
       "46  50           42\n",
       "31  35           35\n",
       "26  30           35\n",
       "36  40           35\n",
       "21  25           34\n",
       "20 or younger     9\n",
       "Name: age, dtype: int64"
      ]
     },
     "execution_count": 194,
     "metadata": {},
     "output_type": "execute_result"
    }
   ],
   "source": [
    "tafe_survey['age'].value_counts(dropna=False)"
   ]
  },
  {
   "cell_type": "markdown",
   "metadata": {},
   "source": [
    "This analysis is actually adding more distortion than I would like. To drop from 437 to 380 is a loss of 13% of the original data but means there is no distortion for any group. That seems preferable."
   ]
  },
  {
   "cell_type": "code",
   "execution_count": 195,
   "metadata": {
    "collapsed": true
   },
   "outputs": [],
   "source": [
    "tafe_survey = tafe_survey.dropna()"
   ]
  },
  {
   "cell_type": "code",
   "execution_count": 196,
   "metadata": {
    "collapsed": false
   },
   "outputs": [
    {
     "name": "stdout",
     "output_type": "stream",
     "text": [
      "<class 'pandas.core.frame.DataFrame'>\n",
      "Int64Index: 380 entries, 4 to 701\n",
      "Data columns (total 22 columns):\n",
      "id                               380 non-null float64\n",
      "Institute                        380 non-null object\n",
      "WorkArea                         380 non-null object\n",
      "cease_date                       380 non-null float64\n",
      "separationtype                   380 non-null object\n",
      "Career move to public sector     380 non-null object\n",
      "Career move to private sector    380 non-null object\n",
      "Career move to self employed     380 non-null object\n",
      "Ill Health                       380 non-null object\n",
      "Maternity/family                 380 non-null object\n",
      "Dissatisfaction                  380 non-null object\n",
      "Job dissatisfaction              380 non-null object\n",
      "Interpersonal conflicts          380 non-null object\n",
      "Study                            380 non-null object\n",
      "Travel                           380 non-null object\n",
      "Other                            380 non-null object\n",
      "None of the above                380 non-null object\n",
      "gender                           380 non-null object\n",
      "age                              380 non-null object\n",
      "employment_status                380 non-null object\n",
      "position                         380 non-null object\n",
      "institute_service                380 non-null object\n",
      "dtypes: float64(2), object(20)\n",
      "memory usage: 68.3+ KB\n"
     ]
    }
   ],
   "source": [
    "tafe_survey.info()"
   ]
  },
  {
   "cell_type": "markdown",
   "metadata": {},
   "source": [
    "#### Age "
   ]
  },
  {
   "cell_type": "code",
   "execution_count": 197,
   "metadata": {
    "collapsed": false
   },
   "outputs": [
    {
     "data": {
      "text/plain": [
       "56 or older      95\n",
       "51-55            49\n",
       "41  45           46\n",
       "46  50           42\n",
       "31  35           35\n",
       "26  30           35\n",
       "36  40           35\n",
       "21  25           34\n",
       "20 or younger     9\n",
       "Name: age, dtype: int64"
      ]
     },
     "execution_count": 197,
     "metadata": {},
     "output_type": "execute_result"
    }
   ],
   "source": [
    "tafe_survey['age'].value_counts(dropna=False)"
   ]
  },
  {
   "cell_type": "code",
   "execution_count": 198,
   "metadata": {
    "collapsed": false
   },
   "outputs": [
    {
     "data": {
      "text/plain": [
       "<matplotlib.axes._subplots.AxesSubplot at 0x7f4f753b85c0>"
      ]
     },
     "execution_count": 198,
     "metadata": {},
     "output_type": "execute_result"
    },
    {
     "data": {
      "image/png": "[encoded data removed]",
      "text/plain": [
       "<matplotlib.figure.Figure at 0x7f4f754406d8>"
      ]
     },
     "metadata": {},
     "output_type": "display_data"
    }
   ],
   "source": [
    "tafe_survey['age'].value_counts().plot(kind='bar')"
   ]
  },
  {
   "cell_type": "markdown",
   "metadata": {},
   "source": [
    "#### Gender"
   ]
  },
  {
   "cell_type": "code",
   "execution_count": 199,
   "metadata": {
    "collapsed": false
   },
   "outputs": [
    {
     "data": {
      "text/plain": [
       "Female    244\n",
       "Male      136\n",
       "Name: gender, dtype: int64"
      ]
     },
     "execution_count": 199,
     "metadata": {},
     "output_type": "execute_result"
    }
   ],
   "source": [
    "tafe_survey['gender'].value_counts(dropna=False)"
   ]
  },
  {
   "cell_type": "markdown",
   "metadata": {
    "collapsed": true
   },
   "source": [
    "#### Employment Status"
   ]
  },
  {
   "cell_type": "code",
   "execution_count": 200,
   "metadata": {
    "collapsed": false
   },
   "outputs": [
    {
     "data": {
      "text/plain": [
       "Permanent Full-time    158\n",
       "Temporary Full-time    120\n",
       "Permanent Part-time     44\n",
       "Contract/casual         30\n",
       "Temporary Part-time     28\n",
       "Name: employment_status, dtype: int64"
      ]
     },
     "execution_count": 200,
     "metadata": {},
     "output_type": "execute_result"
    }
   ],
   "source": [
    "tafe_survey['employment_status'].value_counts(dropna=False)"
   ]
  },
  {
   "cell_type": "markdown",
   "metadata": {},
   "source": [
    "#### Position"
   ]
  },
  {
   "cell_type": "code",
   "execution_count": 201,
   "metadata": {
    "collapsed": false
   },
   "outputs": [
    {
     "data": {
      "text/plain": [
       "Administration (AO)           188\n",
       "Teacher (including LVT)       134\n",
       "Professional Officer (PO)      21\n",
       "Operational (OO)               16\n",
       "Workplace Training Officer      6\n",
       "Tutor                           5\n",
       "Executive (SES/SO)              5\n",
       "Technical Officer (TO)          5\n",
       "Name: position, dtype: int64"
      ]
     },
     "execution_count": 201,
     "metadata": {},
     "output_type": "execute_result"
    }
   ],
   "source": [
    "tafe_survey['position'].value_counts(dropna=False)"
   ]
  },
  {
   "cell_type": "markdown",
   "metadata": {},
   "source": [
    "#### Institute Service"
   ]
  },
  {
   "cell_type": "code",
   "execution_count": 202,
   "metadata": {
    "collapsed": false
   },
   "outputs": [
    {
     "data": {
      "text/plain": [
       "1-2                   68\n",
       "11-20                 49\n",
       "3-4                   72\n",
       "5-6                   36\n",
       "7-10                  30\n",
       "Less than 1 year      77\n",
       "More than 20 years    48\n",
       "Name: institute_service, dtype: int64"
      ]
     },
     "execution_count": 202,
     "metadata": {},
     "output_type": "execute_result"
    }
   ],
   "source": [
    "tafe_survey['institute_service'].value_counts(dropna=False).sort_index()"
   ]
  },
  {
   "cell_type": "code",
   "execution_count": 203,
   "metadata": {
    "collapsed": false
   },
   "outputs": [
    {
     "data": {
      "text/plain": [
       "<matplotlib.axes._subplots.AxesSubplot at 0x7f4f75427a90>"
      ]
     },
     "execution_count": 203,
     "metadata": {},
     "output_type": "execute_result"
    },
    {
     "data": {
      "image/png": "[encoded data removed]",
      "text/plain": [
       "<matplotlib.figure.Figure at 0x7f4f755ae8d0>"
      ]
     },
     "metadata": {},
     "output_type": "display_data"
    }
   ],
   "source": [
    "tafe_survey['institute_service'].value_counts(dropna=False).sort_index().plot(kind='bar')"
   ]
  },
  {
   "cell_type": "markdown",
   "metadata": {},
   "source": [
    "#### Contributing Factors"
   ]
  },
  {
   "cell_type": "code",
   "execution_count": 204,
   "metadata": {
    "collapsed": false
   },
   "outputs": [
    {
     "data": {
      "text/plain": [
       "-                               286\n",
       "Career Move - Private Sector     94\n",
       "Name: Career move to private sector, dtype: int64"
      ]
     },
     "execution_count": 204,
     "metadata": {},
     "output_type": "execute_result"
    }
   ],
   "source": [
    "tafe_survey['Career move to private sector'].value_counts(dropna=False)"
   ]
  },
  {
   "cell_type": "code",
   "execution_count": 205,
   "metadata": {
    "collapsed": true
   },
   "outputs": [],
   "source": [
    "def contributing_factors(val):\n",
    "    if val == '-':\n",
    "        return False\n",
    "    else:\n",
    "        return True"
   ]
  },
  {
   "cell_type": "code",
   "execution_count": 206,
   "metadata": {
    "collapsed": false
   },
   "outputs": [],
   "source": [
    "for i in range(5,17):\n",
    "    tafe_survey.iloc[:,i] = tafe_survey.iloc[:,i].apply(contributing_factors)"
   ]
  },
  {
   "cell_type": "code",
   "execution_count": 207,
   "metadata": {
    "collapsed": false
   },
   "outputs": [
    {
     "data": {
      "text/html": [
       "<div>\n",
       "<style scoped>\n",
       "    .dataframe tbody tr th:only-of-type {\n",
       "        vertical-align: middle;\n",
       "    }\n",
       "\n",
       "    .dataframe tbody tr th {\n",
       "        vertical-align: top;\n",
       "    }\n",
       "\n",
       "    .dataframe thead th {\n",
       "        text-align: right;\n",
       "    }\n",
       "</style>\n",
       "<table border=\"1\" class=\"dataframe\">\n",
       "  <thead>\n",
       "    <tr style=\"text-align: right;\">\n",
       "      <th></th>\n",
       "      <th>separationtype</th>\n",
       "      <th>Career move to public sector</th>\n",
       "      <th>Career move to private sector</th>\n",
       "      <th>Career move to self employed</th>\n",
       "      <th>Ill Health</th>\n",
       "      <th>Maternity/family</th>\n",
       "      <th>Dissatisfaction</th>\n",
       "      <th>Job dissatisfaction</th>\n",
       "      <th>Interpersonal conflicts</th>\n",
       "      <th>Study</th>\n",
       "      <th>Travel</th>\n",
       "      <th>Other</th>\n",
       "      <th>None of the above</th>\n",
       "      <th>gender</th>\n",
       "      <th>age</th>\n",
       "    </tr>\n",
       "  </thead>\n",
       "  <tbody>\n",
       "    <tr>\n",
       "      <th>4</th>\n",
       "      <td>Resignation</td>\n",
       "      <td>False</td>\n",
       "      <td>True</td>\n",
       "      <td>False</td>\n",
       "      <td>False</td>\n",
       "      <td>False</td>\n",
       "      <td>False</td>\n",
       "      <td>False</td>\n",
       "      <td>False</td>\n",
       "      <td>False</td>\n",
       "      <td>False</td>\n",
       "      <td>False</td>\n",
       "      <td>False</td>\n",
       "      <td>Male</td>\n",
       "      <td>41  45</td>\n",
       "    </tr>\n",
       "    <tr>\n",
       "      <th>5</th>\n",
       "      <td>Resignation</td>\n",
       "      <td>False</td>\n",
       "      <td>False</td>\n",
       "      <td>False</td>\n",
       "      <td>False</td>\n",
       "      <td>False</td>\n",
       "      <td>False</td>\n",
       "      <td>False</td>\n",
       "      <td>False</td>\n",
       "      <td>False</td>\n",
       "      <td>False</td>\n",
       "      <td>True</td>\n",
       "      <td>False</td>\n",
       "      <td>Female</td>\n",
       "      <td>56 or older</td>\n",
       "    </tr>\n",
       "    <tr>\n",
       "      <th>6</th>\n",
       "      <td>Resignation</td>\n",
       "      <td>False</td>\n",
       "      <td>True</td>\n",
       "      <td>False</td>\n",
       "      <td>False</td>\n",
       "      <td>True</td>\n",
       "      <td>False</td>\n",
       "      <td>False</td>\n",
       "      <td>False</td>\n",
       "      <td>False</td>\n",
       "      <td>False</td>\n",
       "      <td>True</td>\n",
       "      <td>False</td>\n",
       "      <td>Male</td>\n",
       "      <td>20 or younger</td>\n",
       "    </tr>\n",
       "    <tr>\n",
       "      <th>7</th>\n",
       "      <td>Resignation</td>\n",
       "      <td>False</td>\n",
       "      <td>False</td>\n",
       "      <td>False</td>\n",
       "      <td>False</td>\n",
       "      <td>False</td>\n",
       "      <td>False</td>\n",
       "      <td>False</td>\n",
       "      <td>False</td>\n",
       "      <td>False</td>\n",
       "      <td>False</td>\n",
       "      <td>True</td>\n",
       "      <td>False</td>\n",
       "      <td>Male</td>\n",
       "      <td>46  50</td>\n",
       "    </tr>\n",
       "    <tr>\n",
       "      <th>8</th>\n",
       "      <td>Resignation</td>\n",
       "      <td>False</td>\n",
       "      <td>False</td>\n",
       "      <td>False</td>\n",
       "      <td>False</td>\n",
       "      <td>False</td>\n",
       "      <td>False</td>\n",
       "      <td>False</td>\n",
       "      <td>False</td>\n",
       "      <td>False</td>\n",
       "      <td>False</td>\n",
       "      <td>True</td>\n",
       "      <td>False</td>\n",
       "      <td>Female</td>\n",
       "      <td>36  40</td>\n",
       "    </tr>\n",
       "  </tbody>\n",
       "</table>\n",
       "</div>"
      ],
      "text/plain": [
       "  separationtype  Career move to public sector  Career move to private sector  \\\n",
       "4    Resignation                         False                           True   \n",
       "5    Resignation                         False                          False   \n",
       "6    Resignation                         False                           True   \n",
       "7    Resignation                         False                          False   \n",
       "8    Resignation                         False                          False   \n",
       "\n",
       "   Career move to self employed  Ill Health  Maternity/family  \\\n",
       "4                         False       False             False   \n",
       "5                         False       False             False   \n",
       "6                         False       False              True   \n",
       "7                         False       False             False   \n",
       "8                         False       False             False   \n",
       "\n",
       "   Dissatisfaction  Job dissatisfaction  Interpersonal conflicts  Study  \\\n",
       "4            False                False                    False  False   \n",
       "5            False                False                    False  False   \n",
       "6            False                False                    False  False   \n",
       "7            False                False                    False  False   \n",
       "8            False                False                    False  False   \n",
       "\n",
       "   Travel  Other  None of the above  gender            age  \n",
       "4   False  False              False    Male         41  45  \n",
       "5   False   True              False  Female    56 or older  \n",
       "6   False   True              False    Male  20 or younger  \n",
       "7   False   True              False    Male         46  50  \n",
       "8   False   True              False  Female         36  40  "
      ]
     },
     "execution_count": 207,
     "metadata": {},
     "output_type": "execute_result"
    }
   ],
   "source": [
    "tafe_survey.iloc[:,4:19].head()"
   ]
  },
  {
   "cell_type": "code",
   "execution_count": 208,
   "metadata": {
    "collapsed": false
   },
   "outputs": [
    {
     "name": "stdout",
     "output_type": "stream",
     "text": [
      "<class 'pandas.core.frame.DataFrame'>\n",
      "Int64Index: 380 entries, 4 to 701\n",
      "Data columns (total 22 columns):\n",
      "id                               380 non-null float64\n",
      "Institute                        380 non-null object\n",
      "WorkArea                         380 non-null object\n",
      "cease_date                       380 non-null float64\n",
      "separationtype                   380 non-null object\n",
      "Career move to public sector     380 non-null bool\n",
      "Career move to private sector    380 non-null bool\n",
      "Career move to self employed     380 non-null bool\n",
      "Ill Health                       380 non-null bool\n",
      "Maternity/family                 380 non-null bool\n",
      "Dissatisfaction                  380 non-null bool\n",
      "Job dissatisfaction              380 non-null bool\n",
      "Interpersonal conflicts          380 non-null bool\n",
      "Study                            380 non-null bool\n",
      "Travel                           380 non-null bool\n",
      "Other                            380 non-null bool\n",
      "None of the above                380 non-null bool\n",
      "gender                           380 non-null object\n",
      "age                              380 non-null object\n",
      "employment_status                380 non-null object\n",
      "position                         380 non-null object\n",
      "institute_service                380 non-null object\n",
      "dtypes: bool(12), float64(2), object(8)\n",
      "memory usage: 37.1+ KB\n"
     ]
    }
   ],
   "source": [
    "tafe_survey.info()"
   ]
  },
  {
   "cell_type": "code",
   "execution_count": 209,
   "metadata": {
    "collapsed": true
   },
   "outputs": [],
   "source": [
    "tafe_survey.to_csv('tafe_survey_first_clean.csv', index=False)"
   ]
  },
  {
   "cell_type": "markdown",
   "metadata": {
    "collapsed": true
   },
   "source": [
    "# Second Clean"
   ]
  },
  {
   "cell_type": "code",
   "execution_count": 210,
   "metadata": {
    "collapsed": false
   },
   "outputs": [
    {
     "name": "stdout",
     "output_type": "stream",
     "text": [
      "<class 'pandas.core.frame.DataFrame'>\n",
      "Int64Index: 753 entries, 0 to 820\n",
      "Data columns (total 32 columns):\n",
      "ID                                     753 non-null int64\n",
      "SeparationType                         753 non-null object\n",
      "Cease Date                             753 non-null int64\n",
      "DETE Start Date                        753 non-null float64\n",
      "Position                               753 non-null object\n",
      "Region                                 753 non-null object\n",
      "Employment Status                      753 non-null object\n",
      "Career move to public sector           753 non-null bool\n",
      "Career move to private sector          753 non-null bool\n",
      "Interpersonal conflicts                753 non-null bool\n",
      "Job dissatisfaction                    753 non-null bool\n",
      "Dissatisfaction with the department    753 non-null bool\n",
      "Physical work environment              753 non-null bool\n",
      "Lack of recognition                    753 non-null bool\n",
      "Lack of job security                   753 non-null bool\n",
      "Work location                          753 non-null bool\n",
      "Employment conditions                  753 non-null bool\n",
      "Maternity/family                       753 non-null bool\n",
      "Relocation                             753 non-null bool\n",
      "Study/Travel                           753 non-null bool\n",
      "Ill Health                             753 non-null bool\n",
      "Traumatic incident                     753 non-null bool\n",
      "Work life balance                      753 non-null bool\n",
      "Workload                               753 non-null bool\n",
      "None of the above                      753 non-null bool\n",
      "Gender                                 753 non-null object\n",
      "Age                                    753 non-null object\n",
      "Aboriginal                             753 non-null object\n",
      "South Sea                              753 non-null bool\n",
      "Disability                             753 non-null bool\n",
      "NESB                                   753 non-null bool\n",
      "institute_service                      753 non-null float64\n",
      "dtypes: bool(21), float64(2), int64(2), object(7)\n",
      "memory usage: 86.0+ KB\n"
     ]
    }
   ],
   "source": [
    "dete_survey.info()"
   ]
  },
  {
   "cell_type": "code",
   "execution_count": 211,
   "metadata": {
    "collapsed": false
   },
   "outputs": [
    {
     "name": "stdout",
     "output_type": "stream",
     "text": [
      "<class 'pandas.core.frame.DataFrame'>\n",
      "Int64Index: 380 entries, 4 to 701\n",
      "Data columns (total 22 columns):\n",
      "id                               380 non-null float64\n",
      "Institute                        380 non-null object\n",
      "WorkArea                         380 non-null object\n",
      "cease_date                       380 non-null float64\n",
      "separationtype                   380 non-null object\n",
      "Career move to public sector     380 non-null bool\n",
      "Career move to private sector    380 non-null bool\n",
      "Career move to self employed     380 non-null bool\n",
      "Ill Health                       380 non-null bool\n",
      "Maternity/family                 380 non-null bool\n",
      "Dissatisfaction                  380 non-null bool\n",
      "Job dissatisfaction              380 non-null bool\n",
      "Interpersonal conflicts          380 non-null bool\n",
      "Study                            380 non-null bool\n",
      "Travel                           380 non-null bool\n",
      "Other                            380 non-null bool\n",
      "None of the above                380 non-null bool\n",
      "gender                           380 non-null object\n",
      "age                              380 non-null object\n",
      "employment_status                380 non-null object\n",
      "position                         380 non-null object\n",
      "institute_service                380 non-null object\n",
      "dtypes: bool(12), float64(2), object(8)\n",
      "memory usage: 37.1+ KB\n"
     ]
    }
   ],
   "source": [
    "tafe_survey.info()"
   ]
  },
  {
   "cell_type": "markdown",
   "metadata": {},
   "source": [
    "## Column Renaming"
   ]
  },
  {
   "cell_type": "code",
   "execution_count": 212,
   "metadata": {
    "collapsed": false
   },
   "outputs": [],
   "source": [
    "dete_survey.columns = (dete_survey.columns\n",
    "                       .str.strip()\n",
    "                       .str.lower()\n",
    "                       .str.replace(' ','_'))"
   ]
  },
  {
   "cell_type": "code",
   "execution_count": 213,
   "metadata": {
    "collapsed": true
   },
   "outputs": [],
   "source": [
    "tafe_survey.columns = (tafe_survey.columns\n",
    "                       .str.strip()\n",
    "                       .str.lower()\n",
    "                       .str.replace(' ','_'))"
   ]
  },
  {
   "cell_type": "markdown",
   "metadata": {},
   "source": [
    "## Category Equivalents"
   ]
  },
  {
   "cell_type": "markdown",
   "metadata": {},
   "source": [
    "### Study/Travel"
   ]
  },
  {
   "cell_type": "code",
   "execution_count": 214,
   "metadata": {
    "collapsed": false
   },
   "outputs": [],
   "source": [
    "tafe_survey['study/travel'] = tafe_survey['travel'] | tafe_survey['study']\n",
    "    \n"
   ]
  },
  {
   "cell_type": "code",
   "execution_count": 215,
   "metadata": {
    "collapsed": false
   },
   "outputs": [
    {
     "data": {
      "text/plain": [
       "False    349\n",
       "True      31\n",
       "Name: study/travel, dtype: int64"
      ]
     },
     "execution_count": 215,
     "metadata": {},
     "output_type": "execute_result"
    }
   ],
   "source": [
    "tafe_survey['study/travel'].value_counts()"
   ]
  },
  {
   "cell_type": "code",
   "execution_count": 216,
   "metadata": {
    "collapsed": false
   },
   "outputs": [
    {
     "data": {
      "text/plain": [
       "False    364\n",
       "True      16\n",
       "Name: study, dtype: int64"
      ]
     },
     "execution_count": 216,
     "metadata": {},
     "output_type": "execute_result"
    }
   ],
   "source": [
    "tafe_survey['study'].value_counts()"
   ]
  },
  {
   "cell_type": "code",
   "execution_count": 217,
   "metadata": {
    "collapsed": false
   },
   "outputs": [],
   "source": [
    "tafe_survey = tafe_survey.drop(columns=['study','travel'])"
   ]
  },
  {
   "cell_type": "markdown",
   "metadata": {},
   "source": [
    "### Dissatisfaction"
   ]
  },
  {
   "cell_type": "code",
   "execution_count": 218,
   "metadata": {
    "collapsed": false
   },
   "outputs": [
    {
     "data": {
      "text/plain": [
       "False    327\n",
       "True      53\n",
       "Name: dissatisfaction, dtype: int64"
      ]
     },
     "execution_count": 218,
     "metadata": {},
     "output_type": "execute_result"
    }
   ],
   "source": [
    "tafe_survey['dissatisfaction'].value_counts()"
   ]
  },
  {
   "cell_type": "code",
   "execution_count": 219,
   "metadata": {
    "collapsed": true
   },
   "outputs": [],
   "source": [
    "tafe_survey['dissatisfaction'] = (tafe_survey['dissatisfaction'] | tafe_survey['job_dissatisfaction']) | (tafe_survey['interpersonal_conflicts'])"
   ]
  },
  {
   "cell_type": "code",
   "execution_count": 220,
   "metadata": {
    "collapsed": false
   },
   "outputs": [
    {
     "data": {
      "text/plain": [
       "False    274\n",
       "True     106\n",
       "Name: dissatisfaction, dtype: int64"
      ]
     },
     "execution_count": 220,
     "metadata": {},
     "output_type": "execute_result"
    }
   ],
   "source": [
    "tafe_survey['dissatisfaction'].value_counts()"
   ]
  },
  {
   "cell_type": "code",
   "execution_count": 221,
   "metadata": {
    "collapsed": true
   },
   "outputs": [],
   "source": [
    "tafe_survey = tafe_survey.drop(columns=['job_dissatisfaction', 'interpersonal_conflicts'])"
   ]
  },
  {
   "cell_type": "code",
   "execution_count": 222,
   "metadata": {
    "collapsed": true
   },
   "outputs": [],
   "source": [
    "dete_survey['dissatisfaction'] = (dete_survey['job_dissatisfaction'] |\n",
    "                    dete_survey['dissatisfaction_with_the_department'] |\n",
    "                    dete_survey['physical_work_environment'] |\n",
    "                    dete_survey['lack_of_recognition'] |\n",
    "                    dete_survey['lack_of_job_security'] |\n",
    "                    dete_survey['work_location'] |\n",
    "                    dete_survey['employment_conditions'] |\n",
    "                    dete_survey['work_life_balance'] |\n",
    "                    dete_survey['workload'])"
   ]
  },
  {
   "cell_type": "code",
   "execution_count": 223,
   "metadata": {
    "collapsed": false
   },
   "outputs": [
    {
     "data": {
      "text/plain": [
       "False    396\n",
       "True     357\n",
       "Name: dissatisfaction, dtype: int64"
      ]
     },
     "execution_count": 223,
     "metadata": {},
     "output_type": "execute_result"
    }
   ],
   "source": [
    "dete_survey['dissatisfaction'].value_counts()"
   ]
  },
  {
   "cell_type": "code",
   "execution_count": 224,
   "metadata": {
    "collapsed": false
   },
   "outputs": [],
   "source": [
    "dete_survey = (dete_survey.drop(columns=['job_dissatisfaction',\n",
    "                    'dissatisfaction_with_the_department',\n",
    "                    'physical_work_environment',\n",
    "                    'lack_of_recognition',\n",
    "                    'lack_of_job_security',\n",
    "                    'work_location',\n",
    "                    'employment_conditions',\n",
    "                    'work_life_balance',\n",
    "                    'workload']))"
   ]
  },
  {
   "cell_type": "markdown",
   "metadata": {},
   "source": [
    "### Seperation Type"
   ]
  },
  {
   "cell_type": "code",
   "execution_count": 225,
   "metadata": {
    "collapsed": false
   },
   "outputs": [],
   "source": [
    "tafe_survey.rename(columns={'separationtype':'separation_type'}, inplace=True)"
   ]
  },
  {
   "cell_type": "code",
   "execution_count": 226,
   "metadata": {
    "collapsed": true
   },
   "outputs": [],
   "source": [
    "dete_survey.rename(columns={'separationtype':'separation_type'}, inplace=True)"
   ]
  },
  {
   "cell_type": "code",
   "execution_count": 227,
   "metadata": {
    "collapsed": false
   },
   "outputs": [],
   "source": [
    "tafe_survey['cease_date'] = tafe_survey['cease_date'].astype(int)"
   ]
  },
  {
   "cell_type": "code",
   "execution_count": 228,
   "metadata": {
    "collapsed": false
   },
   "outputs": [
    {
     "data": {
      "text/plain": [
       "Age Retirement                          264\n",
       "Resignation-Other reasons               138\n",
       "Resignation-Other employer               83\n",
       "Voluntary Early Retirement (VER)         65\n",
       "Resignation-Move overseas/interstate     63\n",
       "Ill Health Retirement                    50\n",
       "Other                                    43\n",
       "Contract Expired                         33\n",
       "Termination                              14\n",
       "Name: separation_type, dtype: int64"
      ]
     },
     "execution_count": 228,
     "metadata": {},
     "output_type": "execute_result"
    }
   ],
   "source": [
    "dete_survey['separation_type'].value_counts()"
   ]
  },
  {
   "cell_type": "code",
   "execution_count": 229,
   "metadata": {
    "collapsed": false
   },
   "outputs": [
    {
     "data": {
      "text/plain": [
       "Resignation    290\n",
       "Retirement      70\n",
       "Transfer        20\n",
       "Name: separation_type, dtype: int64"
      ]
     },
     "execution_count": 229,
     "metadata": {},
     "output_type": "execute_result"
    }
   ],
   "source": [
    "tafe_survey['separation_type'].value_counts()"
   ]
  },
  {
   "cell_type": "code",
   "execution_count": 230,
   "metadata": {
    "collapsed": true
   },
   "outputs": [],
   "source": [
    "cols = ['Resignation-Other reasons', 'Resignation-Other employer', 'Resignation-Move overseas/interstate']"
   ]
  },
  {
   "cell_type": "code",
   "execution_count": 231,
   "metadata": {
    "collapsed": false
   },
   "outputs": [],
   "source": [
    "resign_bool = dete_survey['separation_type'].isin(cols)"
   ]
  },
  {
   "cell_type": "code",
   "execution_count": 232,
   "metadata": {
    "collapsed": false
   },
   "outputs": [],
   "source": [
    "dete_survey.loc[resign_bool, 'separation_type'] = 'Resignation'"
   ]
  },
  {
   "cell_type": "code",
   "execution_count": 233,
   "metadata": {
    "collapsed": true
   },
   "outputs": [],
   "source": [
    "cols = (['Age Retirement','Voluntary Early Retirement (VER)', \n",
    "         'Ill Health Retirement'])"
   ]
  },
  {
   "cell_type": "code",
   "execution_count": 234,
   "metadata": {
    "collapsed": true
   },
   "outputs": [],
   "source": [
    "retire_bool = dete_survey['separation_type'].isin(cols)"
   ]
  },
  {
   "cell_type": "code",
   "execution_count": 235,
   "metadata": {
    "collapsed": true
   },
   "outputs": [],
   "source": [
    "dete_survey.loc[retire_bool, 'separation_type'] = 'Retirement'"
   ]
  },
  {
   "cell_type": "code",
   "execution_count": 236,
   "metadata": {
    "collapsed": false
   },
   "outputs": [
    {
     "data": {
      "text/plain": [
       "Retirement          379\n",
       "Resignation         284\n",
       "Other                43\n",
       "Contract Expired     33\n",
       "Termination          14\n",
       "Name: separation_type, dtype: int64"
      ]
     },
     "execution_count": 236,
     "metadata": {},
     "output_type": "execute_result"
    }
   ],
   "source": [
    "dete_survey['separation_type'].value_counts()"
   ]
  },
  {
   "cell_type": "markdown",
   "metadata": {},
   "source": [
    "### Age"
   ]
  },
  {
   "cell_type": "code",
   "execution_count": 237,
   "metadata": {
    "collapsed": false
   },
   "outputs": [
    {
     "data": {
      "text/plain": [
       "20 or younger     9\n",
       "21  25           34\n",
       "26  30           35\n",
       "31  35           35\n",
       "36  40           35\n",
       "41  45           46\n",
       "46  50           42\n",
       "51-55            49\n",
       "56 or older      95\n",
       "Name: age, dtype: int64"
      ]
     },
     "execution_count": 237,
     "metadata": {},
     "output_type": "execute_result"
    }
   ],
   "source": [
    "tafe_survey['age'].value_counts().sort_index()"
   ]
  },
  {
   "cell_type": "code",
   "execution_count": 238,
   "metadata": {
    "collapsed": false,
    "scrolled": true
   },
   "outputs": [
    {
     "data": {
      "text/plain": [
       "20 or younger      1\n",
       "21-25             38\n",
       "26-30             52\n",
       "31-35             38\n",
       "36-40             48\n",
       "41-45             60\n",
       "46-50             57\n",
       "51-55             98\n",
       "56-60            152\n",
       "61 or older      209\n",
       "Name: age, dtype: int64"
      ]
     },
     "execution_count": 238,
     "metadata": {},
     "output_type": "execute_result"
    }
   ],
   "source": [
    "dete_survey['age'].value_counts().sort_index()"
   ]
  },
  {
   "cell_type": "code",
   "execution_count": 239,
   "metadata": {
    "collapsed": false
   },
   "outputs": [],
   "source": [
    "mappings = ({'46  50' : '46-50', '41  45' : '41-45', \n",
    "             '36  40' : '36-40', '31  35' : '31-35',\n",
    "             '26  30' : '26-30', '21  25' : '21-25',\n",
    "            '20 or younger' : '20 or younger', '51-55' : '51-55',\n",
    "            '56 or older' : '56-60'})"
   ]
  },
  {
   "cell_type": "code",
   "execution_count": 240,
   "metadata": {
    "collapsed": true
   },
   "outputs": [],
   "source": [
    "tafe_survey['age'] = tafe_survey['age'].map(mappings, na_action='ignore')"
   ]
  },
  {
   "cell_type": "code",
   "execution_count": 241,
   "metadata": {
    "collapsed": false
   },
   "outputs": [
    {
     "data": {
      "text/plain": [
       "20 or younger     9\n",
       "21-25            34\n",
       "26-30            35\n",
       "31-35            35\n",
       "36-40            35\n",
       "41-45            46\n",
       "46-50            42\n",
       "51-55            49\n",
       "56-60            95\n",
       "Name: age, dtype: int64"
      ]
     },
     "execution_count": 241,
     "metadata": {},
     "output_type": "execute_result"
    }
   ],
   "source": [
    "tafe_survey['age'].value_counts().sort_index()"
   ]
  },
  {
   "cell_type": "code",
   "execution_count": 242,
   "metadata": {
    "collapsed": false
   },
   "outputs": [
    {
     "data": {
      "text/plain": [
       "20 or younger      1\n",
       "21-25             38\n",
       "26-30             52\n",
       "31-35             38\n",
       "36-40             48\n",
       "41-45             60\n",
       "46-50             57\n",
       "51-55             98\n",
       "56-60            152\n",
       "61 or older      209\n",
       "Name: age, dtype: int64"
      ]
     },
     "execution_count": 242,
     "metadata": {},
     "output_type": "execute_result"
    }
   ],
   "source": [
    "dete_survey['age'].value_counts().sort_index()"
   ]
  },
  {
   "cell_type": "markdown",
   "metadata": {},
   "source": [
    "### Institute Service"
   ]
  },
  {
   "cell_type": "markdown",
   "metadata": {},
   "source": [
    "According to https://www.businesswire.com/news/home/20171108006002/en/Age-Number-Engage-Employees-Career-Stage, service time will be catagorized in 4 areas:  \n",
    "New < 3 years  \n",
    "Experienced < 6 years  \n",
    "Established < 10 years  \n",
    "Veteran > 11 years"
   ]
  },
  {
   "cell_type": "code",
   "execution_count": 243,
   "metadata": {
    "collapsed": true
   },
   "outputs": [],
   "source": [
    "dete_survey['institute_service'] = dete_survey['institute_service'].astype(int)"
   ]
  },
  {
   "cell_type": "code",
   "execution_count": 247,
   "metadata": {
    "collapsed": false
   },
   "outputs": [],
   "source": [
    "dete_survey.loc[(dete_survey['institute_service'] == -1), \n",
    "                 'institute_service'] = 0"
   ]
  },
  {
   "cell_type": "code",
   "execution_count": 248,
   "metadata": {
    "collapsed": false
   },
   "outputs": [
    {
     "data": {
      "text/plain": [
       "0     34\n",
       "1     39\n",
       "2     25\n",
       "3     31\n",
       "4     28\n",
       "5     35\n",
       "6     30\n",
       "7     18\n",
       "8     14\n",
       "9     21\n",
       "10    13\n",
       "11    13\n",
       "12    15\n",
       "13    18\n",
       "14    14\n",
       "15    19\n",
       "16    16\n",
       "17    17\n",
       "18    11\n",
       "19    13\n",
       "20    12\n",
       "21    15\n",
       "22    25\n",
       "23    17\n",
       "24    17\n",
       "25    11\n",
       "26    11\n",
       "27     8\n",
       "28     9\n",
       "29     8\n",
       "30     4\n",
       "31    11\n",
       "32    12\n",
       "33    11\n",
       "34    14\n",
       "35    15\n",
       "36     8\n",
       "37    23\n",
       "38    15\n",
       "39    14\n",
       "40     9\n",
       "41    11\n",
       "42    14\n",
       "43    17\n",
       "44     7\n",
       "45     5\n",
       "46     1\n",
       "48     1\n",
       "49     3\n",
       "50     1\n",
       "Name: institute_service, dtype: int64"
      ]
     },
     "execution_count": 248,
     "metadata": {},
     "output_type": "execute_result"
    }
   ],
   "source": [
    "dete_survey['institute_service'].value_counts().sort_index()"
   ]
  },
  {
   "cell_type": "code",
   "execution_count": 249,
   "metadata": {
    "collapsed": false
   },
   "outputs": [
    {
     "data": {
      "text/plain": [
       "1-2                   68\n",
       "11-20                 49\n",
       "3-4                   72\n",
       "5-6                   36\n",
       "7-10                  30\n",
       "Less than 1 year      77\n",
       "More than 20 years    48\n",
       "Name: institute_service, dtype: int64"
      ]
     },
     "execution_count": 249,
     "metadata": {},
     "output_type": "execute_result"
    }
   ],
   "source": [
    "tafe_survey['institute_service'].value_counts().sort_index()"
   ]
  },
  {
   "cell_type": "code",
   "execution_count": 250,
   "metadata": {
    "collapsed": true
   },
   "outputs": [],
   "source": [
    "pattern = r'([0-9]?[0-9])'"
   ]
  },
  {
   "cell_type": "code",
   "execution_count": 251,
   "metadata": {
    "collapsed": false,
    "scrolled": true
   },
   "outputs": [
    {
     "name": "stderr",
     "output_type": "stream",
     "text": [
      "/dataquest/system/env/python3/lib/python3.4/site-packages/ipykernel/__main__.py:2: FutureWarning:\n",
      "\n",
      "currently extract(expand=None) means expand=False (return Index/Series/DataFrame) but in a future version of pandas this will be changed to expand=True (return DataFrame)\n",
      "\n"
     ]
    }
   ],
   "source": [
    "tafe_survey['institute_service'] = (tafe_survey['institute_service']\n",
    "                                    .str.extract(pattern))"
   ]
  },
  {
   "cell_type": "code",
   "execution_count": 252,
   "metadata": {
    "collapsed": false
   },
   "outputs": [
    {
     "data": {
      "text/plain": [
       "1     145\n",
       "11     49\n",
       "20     48\n",
       "3      72\n",
       "5      36\n",
       "7      30\n",
       "Name: institute_service, dtype: int64"
      ]
     },
     "execution_count": 252,
     "metadata": {},
     "output_type": "execute_result"
    }
   ],
   "source": [
    "tafe_survey['institute_service'].value_counts().sort_index()"
   ]
  },
  {
   "cell_type": "code",
   "execution_count": 253,
   "metadata": {
    "collapsed": true
   },
   "outputs": [],
   "source": [
    "def age_cat(val):\n",
    "    if val >=11:\n",
    "        return 'Veteran'\n",
    "    elif val >= 7:\n",
    "        return 'Established'\n",
    "    elif val >= 3:\n",
    "        return 'Experienced'\n",
    "    else:\n",
    "        return 'New'"
   ]
  },
  {
   "cell_type": "code",
   "execution_count": 254,
   "metadata": {
    "collapsed": true
   },
   "outputs": [],
   "source": [
    "tafe_survey['institute_service'] = tafe_survey['institute_service'].astype(int)"
   ]
  },
  {
   "cell_type": "code",
   "execution_count": 255,
   "metadata": {
    "collapsed": false
   },
   "outputs": [],
   "source": [
    "tafe_survey['institute_service'] = tafe_survey['institute_service'].apply(age_cat)"
   ]
  },
  {
   "cell_type": "code",
   "execution_count": 256,
   "metadata": {
    "collapsed": false
   },
   "outputs": [
    {
     "data": {
      "text/plain": [
       "New            145\n",
       "Experienced    108\n",
       "Veteran         97\n",
       "Established     30\n",
       "Name: institute_service, dtype: int64"
      ]
     },
     "execution_count": 256,
     "metadata": {},
     "output_type": "execute_result"
    }
   ],
   "source": [
    "tafe_survey['institute_service'].value_counts()"
   ]
  },
  {
   "cell_type": "code",
   "execution_count": 257,
   "metadata": {
    "collapsed": true
   },
   "outputs": [],
   "source": [
    "dete_survey['institute_service'] = dete_survey['institute_service'].apply(age_cat)"
   ]
  },
  {
   "cell_type": "code",
   "execution_count": 258,
   "metadata": {
    "collapsed": false
   },
   "outputs": [
    {
     "data": {
      "text/plain": [
       "Veteran        465\n",
       "Experienced    124\n",
       "New             98\n",
       "Established     66\n",
       "Name: institute_service, dtype: int64"
      ]
     },
     "execution_count": 258,
     "metadata": {},
     "output_type": "execute_result"
    }
   ],
   "source": [
    "dete_survey['institute_service'].value_counts()"
   ]
  },
  {
   "cell_type": "markdown",
   "metadata": {},
   "source": [
    "### Employment Status"
   ]
  },
  {
   "cell_type": "code",
   "execution_count": 271,
   "metadata": {
    "collapsed": false
   },
   "outputs": [
    {
     "data": {
      "text/plain": [
       "Permanent Full-time    408\n",
       "Permanent Part-time    275\n",
       "Temporary Full-time     40\n",
       "Temporary Part-time     20\n",
       "Casual                  10\n",
       "Name: employment_status, dtype: int64"
      ]
     },
     "execution_count": 271,
     "metadata": {},
     "output_type": "execute_result"
    }
   ],
   "source": [
    "dete_survey['employment_status'].value_counts()"
   ]
  },
  {
   "cell_type": "code",
   "execution_count": 274,
   "metadata": {
    "collapsed": false
   },
   "outputs": [
    {
     "data": {
      "text/plain": [
       "Permanent Full-time    158\n",
       "Temporary Full-time    120\n",
       "Permanent Part-time     44\n",
       "Contract/casual         30\n",
       "Temporary Part-time     28\n",
       "Name: employment_status, dtype: int64"
      ]
     },
     "execution_count": 274,
     "metadata": {},
     "output_type": "execute_result"
    }
   ],
   "source": [
    "tafe_survey['employment_status'].value_counts()"
   ]
  },
  {
   "cell_type": "code",
   "execution_count": 279,
   "metadata": {
    "collapsed": false
   },
   "outputs": [],
   "source": [
    "tafe_survey.loc[tafe_survey['employment_status'] == 'Contract/casual', 'employment_status'] = 'Casual'"
   ]
  },
  {
   "cell_type": "code",
   "execution_count": 280,
   "metadata": {
    "collapsed": false
   },
   "outputs": [
    {
     "data": {
      "text/plain": [
       "Permanent Full-time    158\n",
       "Temporary Full-time    120\n",
       "Permanent Part-time     44\n",
       "Casual                  30\n",
       "Temporary Part-time     28\n",
       "Name: employment_status, dtype: int64"
      ]
     },
     "execution_count": 280,
     "metadata": {},
     "output_type": "execute_result"
    }
   ],
   "source": [
    "tafe_survey['employment_status'].value_counts()"
   ]
  },
  {
   "cell_type": "markdown",
   "metadata": {},
   "source": [
    "# Combination"
   ]
  },
  {
   "cell_type": "code",
   "execution_count": 259,
   "metadata": {
    "collapsed": false
   },
   "outputs": [
    {
     "name": "stdout",
     "output_type": "stream",
     "text": [
      "<class 'pandas.core.frame.DataFrame'>\n",
      "Int64Index: 753 entries, 0 to 820\n",
      "Data columns (total 24 columns):\n",
      "id                               753 non-null int64\n",
      "separation_type                  753 non-null object\n",
      "cease_date                       753 non-null int64\n",
      "dete_start_date                  753 non-null float64\n",
      "position                         753 non-null object\n",
      "region                           753 non-null object\n",
      "employment_status                753 non-null object\n",
      "career_move_to_public_sector     753 non-null bool\n",
      "career_move_to_private_sector    753 non-null bool\n",
      "interpersonal_conflicts          753 non-null bool\n",
      "maternity/family                 753 non-null bool\n",
      "relocation                       753 non-null bool\n",
      "study/travel                     753 non-null bool\n",
      "ill_health                       753 non-null bool\n",
      "traumatic_incident               753 non-null bool\n",
      "none_of_the_above                753 non-null bool\n",
      "gender                           753 non-null object\n",
      "age                              753 non-null object\n",
      "aboriginal                       753 non-null object\n",
      "south_sea                        753 non-null bool\n",
      "disability                       753 non-null bool\n",
      "nesb                             753 non-null bool\n",
      "institute_service                753 non-null object\n",
      "dissatisfaction                  753 non-null bool\n",
      "dtypes: bool(13), float64(1), int64(2), object(8)\n",
      "memory usage: 80.2+ KB\n"
     ]
    }
   ],
   "source": [
    "dete_survey.info()"
   ]
  },
  {
   "cell_type": "code",
   "execution_count": 266,
   "metadata": {
    "collapsed": false
   },
   "outputs": [
    {
     "name": "stdout",
     "output_type": "stream",
     "text": [
      "<class 'pandas.core.frame.DataFrame'>\n",
      "Int64Index: 380 entries, 4 to 701\n",
      "Data columns (total 19 columns):\n",
      "id                               380 non-null float64\n",
      "institute                        380 non-null object\n",
      "workarea                         380 non-null object\n",
      "cease_date                       380 non-null int64\n",
      "separation_type                  380 non-null object\n",
      "career_move_to_public_sector     380 non-null bool\n",
      "career_move_to_private_sector    380 non-null bool\n",
      "career_move_to_self_employed     380 non-null bool\n",
      "ill_health                       380 non-null bool\n",
      "maternity/family                 380 non-null bool\n",
      "dissatisfaction                  380 non-null bool\n",
      "other                            380 non-null bool\n",
      "none_of_the_above                380 non-null bool\n",
      "gender                           380 non-null object\n",
      "age                              380 non-null object\n",
      "employment_status                380 non-null object\n",
      "position                         380 non-null object\n",
      "institute_service                380 non-null object\n",
      "study/travel                     380 non-null bool\n",
      "dtypes: bool(9), float64(1), int64(1), object(8)\n",
      "memory usage: 36.0+ KB\n"
     ]
    }
   ],
   "source": [
    "tafe_survey.info()"
   ]
  },
  {
   "cell_type": "code",
   "execution_count": 281,
   "metadata": {
    "collapsed": true
   },
   "outputs": [],
   "source": [
    "dete_survey['institute'] = 'DETE'"
   ]
  },
  {
   "cell_type": "code",
   "execution_count": 282,
   "metadata": {
    "collapsed": true
   },
   "outputs": [],
   "source": [
    "tafe_survey['institute'] = 'TAFE'"
   ]
  },
  {
   "cell_type": "code",
   "execution_count": 283,
   "metadata": {
    "collapsed": true
   },
   "outputs": [],
   "source": [
    "tafe_survey.to_csv('tafe_survey_second_clean.csv', index=False)"
   ]
  },
  {
   "cell_type": "code",
   "execution_count": 284,
   "metadata": {
    "collapsed": true
   },
   "outputs": [],
   "source": [
    "dete_survey.to_csv('dete_survey_second_clean.csv', index=False)"
   ]
  },
  {
   "cell_type": "code",
   "execution_count": 291,
   "metadata": {
    "collapsed": true
   },
   "outputs": [],
   "source": [
    "combined = pd.concat([dete_survey, tafe_survey])"
   ]
  },
  {
   "cell_type": "code",
   "execution_count": 292,
   "metadata": {
    "collapsed": false
   },
   "outputs": [
    {
     "name": "stdout",
     "output_type": "stream",
     "text": [
      "<class 'pandas.core.frame.DataFrame'>\n",
      "Int64Index: 1133 entries, 0 to 701\n",
      "Data columns (total 28 columns):\n",
      "aboriginal                       753 non-null object\n",
      "age                              1133 non-null object\n",
      "career_move_to_private_sector    1133 non-null bool\n",
      "career_move_to_public_sector     1133 non-null bool\n",
      "career_move_to_self_employed     380 non-null object\n",
      "cease_date                       1133 non-null int64\n",
      "dete_start_date                  753 non-null float64\n",
      "disability                       753 non-null object\n",
      "dissatisfaction                  1133 non-null bool\n",
      "employment_status                1133 non-null object\n",
      "gender                           1133 non-null object\n",
      "id                               1133 non-null float64\n",
      "ill_health                       1133 non-null bool\n",
      "institute                        1133 non-null object\n",
      "institute_service                1133 non-null object\n",
      "interpersonal_conflicts          753 non-null object\n",
      "maternity/family                 1133 non-null bool\n",
      "nesb                             753 non-null object\n",
      "none_of_the_above                1133 non-null bool\n",
      "other                            380 non-null object\n",
      "position                         1133 non-null object\n",
      "region                           753 non-null object\n",
      "relocation                       753 non-null object\n",
      "separation_type                  1133 non-null object\n",
      "south_sea                        753 non-null object\n",
      "study/travel                     1133 non-null bool\n",
      "traumatic_incident               753 non-null object\n",
      "workarea                         380 non-null object\n",
      "dtypes: bool(7), float64(2), int64(1), object(18)\n",
      "memory usage: 202.5+ KB\n"
     ]
    }
   ],
   "source": [
    "combined.info()"
   ]
  },
  {
   "cell_type": "markdown",
   "metadata": {},
   "source": [
    "### Combined Cleaning"
   ]
  },
  {
   "cell_type": "code",
   "execution_count": 297,
   "metadata": {
    "collapsed": false
   },
   "outputs": [],
   "source": [
    "combined = combined.dropna(axis='columns')"
   ]
  },
  {
   "cell_type": "code",
   "execution_count": 298,
   "metadata": {
    "collapsed": false
   },
   "outputs": [
    {
     "name": "stdout",
     "output_type": "stream",
     "text": [
      "<class 'pandas.core.frame.DataFrame'>\n",
      "Int64Index: 1133 entries, 0 to 701\n",
      "Data columns (total 16 columns):\n",
      "age                              1133 non-null object\n",
      "career_move_to_private_sector    1133 non-null bool\n",
      "career_move_to_public_sector     1133 non-null bool\n",
      "cease_date                       1133 non-null int64\n",
      "dissatisfaction                  1133 non-null bool\n",
      "employment_status                1133 non-null object\n",
      "gender                           1133 non-null object\n",
      "id                               1133 non-null float64\n",
      "ill_health                       1133 non-null bool\n",
      "institute                        1133 non-null object\n",
      "institute_service                1133 non-null object\n",
      "maternity/family                 1133 non-null bool\n",
      "none_of_the_above                1133 non-null bool\n",
      "position                         1133 non-null object\n",
      "separation_type                  1133 non-null object\n",
      "study/travel                     1133 non-null bool\n",
      "dtypes: bool(7), float64(1), int64(1), object(7)\n",
      "memory usage: 96.3+ KB\n"
     ]
    }
   ],
   "source": [
    "combined.info()"
   ]
  },
  {
   "cell_type": "code",
   "execution_count": 299,
   "metadata": {
    "collapsed": true
   },
   "outputs": [],
   "source": [
    "combined.to_csv('combined_data.csv', index=False)"
   ]
  }
 ],
 "metadata": {
  "kernelspec": {
   "display_name": "Python 3",
   "language": "python",
   "name": "python3"
  },
  "language_info": {
   "codemirror_mode": {
    "name": "ipython",
    "version": 3
   },
   "file_extension": ".py",
   "mimetype": "text/x-python",
   "name": "python",
   "nbconvert_exporter": "python",
   "pygments_lexer": "ipython3",
   "version": "3.4.3"
  }
 },
 "nbformat": 4,
 "nbformat_minor": 4
}
